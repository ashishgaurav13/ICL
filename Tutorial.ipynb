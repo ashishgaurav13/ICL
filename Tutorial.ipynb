{
 "cells": [
  {
   "cell_type": "markdown",
   "id": "b8dc9916-a3cc-4fe5-af4b-3b199a773875",
   "metadata": {
    "tags": []
   },
   "source": [
    "# Initialization"
   ]
  },
  {
   "cell_type": "code",
   "execution_count": 1,
   "id": "d6217256",
   "metadata": {
    "tags": []
   },
   "outputs": [],
   "source": [
    "import os\n",
    "os.environ[\"TF_CPP_MIN_LOG_LEVEL\"] = \"3\"\n",
    "os.environ[\"PYGAME_HIDE_SUPPORT_PROMPT\"] = \"hide\"\n",
    "import copy\n",
    "import logging\n",
    "import random\n",
    "import matplotlib.pyplot as plt\n",
    "import numpy as np\n",
    "import torch\n",
    "import tqdm\n",
    "from mpl_toolkits.axes_grid1 import make_axes_locatable\n",
    "import tools\n",
    "device = torch.device(\"cpu\")"
   ]
  },
  {
   "cell_type": "markdown",
   "id": "73516917-eb72-4482-858c-93d751465916",
   "metadata": {},
   "source": [
    "# Seeding"
   ]
  },
  {
   "cell_type": "code",
   "execution_count": 2,
   "id": "c02ef1e3-53d8-4468-ab96-924d347b56ff",
   "metadata": {},
   "outputs": [],
   "source": [
    "def seed_fn(seed):\n",
    "    random.seed(seed)\n",
    "    np.random.seed(seed)\n",
    "    torch.manual_seed(seed)\n",
    "    torch.cuda.manual_seed(seed)\n",
    "    torch.backends.cudnn.benchmark = False\n",
    "    torch.backends.cudnn.deterministic = True"
   ]
  },
  {
   "cell_type": "markdown",
   "id": "ff80b4c4-91e1-4345-9370-8b7e39913e98",
   "metadata": {},
   "source": [
    "# Create environments"
   ]
  },
  {
   "cell_type": "markdown",
   "id": "8d91fb62-c9ff-4fe8-a053-3dc2eda25f99",
   "metadata": {},
   "source": [
    "* Create a 7x7 gridworld environment (similar to Gridworld A environment described in the ICL paper)\n",
    "* Agent starts in one of the start states in `s`\n",
    "* Agent terminates when it reaches cell $(6,0)$\n",
    "* Maximum episode length can be 50"
   ]
  },
  {
   "cell_type": "code",
   "execution_count": 3,
   "id": "a554c47f",
   "metadata": {
    "tags": []
   },
   "outputs": [],
   "source": [
    "def create_env():\n",
    "    r = np.zeros((7, 7))\n",
    "    r[6, 0] = 1.0\n",
    "    t = [(6, 0)]\n",
    "    u = [(ui, uj) for ui in [3] for uj in [0, 1, 2, 3]]\n",
    "    s = [(ui, uj) for ui in [0, 1, 2] for uj in [0, 1]]\n",
    "    env = tools.environments.GridworldEnvironment(\n",
    "        start_states=s,\n",
    "        t=t,\n",
    "        r=r,\n",
    "        unsafe_states=u,\n",
    "        stay_action=False,  # no action to \"stay in current cell\"\n",
    "    )\n",
    "    env = tools.environments.TimeLimit(env, 50)\n",
    "    env = tools.environments.FollowGymAPI(env)\n",
    "    env.seed(1)\n",
    "    return env"
   ]
  },
  {
   "cell_type": "markdown",
   "id": "406925f4-c13a-4935-9edf-ebd3aef1c757",
   "metadata": {},
   "source": [
    "# Visualization"
   ]
  },
  {
   "cell_type": "code",
   "execution_count": 4,
   "id": "492e8c2e-c5b6-43d3-8ec0-5463cb6f0831",
   "metadata": {},
   "outputs": [],
   "source": [
    "def gridworld_imshow(m, fig, ax):\n",
    "    m = np.array(m).squeeze()\n",
    "    assert len(m.shape) == 2\n",
    "    divider = make_axes_locatable(ax)\n",
    "    cax = divider.append_axes(\"right\", size=\"5%\", pad=0.05)\n",
    "    im = ax.imshow(m, cmap=\"gray\")\n",
    "    # im.set_clim(0, 1)\n",
    "    ax.set_xticks(np.arange(m.shape[0]))\n",
    "    ax.set_yticks(np.arange(m.shape[1]))\n",
    "    cbar = fig.colorbar(im, cax=cax)"
   ]
  },
  {
   "cell_type": "code",
   "execution_count": 5,
   "id": "6b512fd7-6550-4ee0-8ff3-a6188a1f6bf1",
   "metadata": {},
   "outputs": [],
   "source": [
    "def visualize_constraint(constraint_fn, fig=None, ax=None):\n",
    "    global gridworld_dim, n_actions\n",
    "    grid_for_action = []\n",
    "    for a in np.arange(n_actions):\n",
    "        grid = np.zeros((gridworld_dim, gridworld_dim))\n",
    "        for x in np.arange(gridworld_dim):\n",
    "            for y in np.arange(gridworld_dim):\n",
    "                grid[x, y] = constraint_fn(([x, y], a))\n",
    "        grid_for_action += [grid]\n",
    "    average_grid = np.mean(grid_for_action, axis=0)\n",
    "    if fig == None and ax == None:\n",
    "        fig, ax = plt.subplots(1, 1, figsize=(3, 3))\n",
    "    gridworld_imshow(average_grid, fig, ax)"
   ]
  },
  {
   "cell_type": "code",
   "execution_count": 6,
   "id": "e1c66b1e-8acd-4f56-85f0-59ed0700895b",
   "metadata": {},
   "outputs": [],
   "source": [
    "def visualize_accrual(data, fig=None, ax=None):\n",
    "    global gridworld_dim, n_actions\n",
    "    accrual = np.array([np.zeros((gridworld_dim, gridworld_dim)) for _ in range(n_actions)])\n",
    "    for S, A in data:\n",
    "        for s, a in zip(S, A):\n",
    "            x, y = s\n",
    "            accrual[a][x][y] += 1\n",
    "    accrual = np.mean(accrual, axis=0)\n",
    "    accrual /= np.max(accrual)\n",
    "    if fig == None and ax == None:\n",
    "        fig, ax = plt.subplots(1, 1, figsize=(3, 3))\n",
    "    gridworld_imshow(accrual, fig, ax)"
   ]
  },
  {
   "cell_type": "markdown",
   "id": "f27a706f-e65d-4889-ac6e-c820cfa9902a",
   "metadata": {},
   "source": [
    "# Constraint functions"
   ]
  },
  {
   "cell_type": "markdown",
   "id": "8552b371-e2a4-4f28-8489-f144292b0fd0",
   "metadata": {},
   "source": [
    "Ground truth constraint function - $1$ in cells $\\{(3,0), (3,1), (3,2), (3,3)\\}$ and $0$ elsewhere"
   ]
  },
  {
   "cell_type": "code",
   "execution_count": 7,
   "id": "37a7bd8c",
   "metadata": {
    "tags": []
   },
   "outputs": [],
   "source": [
    "def true_constraint_function(sa):\n",
    "    s, a = sa\n",
    "    x, y = s[0], s[1]\n",
    "    u = [(ui, uj) for ui in [3] for uj in [0, 1, 2, 3]]\n",
    "    if (x, y) in u:\n",
    "        return 1\n",
    "    else:\n",
    "        return 0"
   ]
  },
  {
   "cell_type": "markdown",
   "id": "7bd2d7d9-0762-4150-87e2-40bde3f310b0",
   "metadata": {},
   "source": [
    "Current constraint function just uses the constraint neural network (input is state only for this example)"
   ]
  },
  {
   "cell_type": "code",
   "execution_count": 8,
   "id": "9cc523b2-726b-46c2-a2d3-e0c1b0f9a2db",
   "metadata": {},
   "outputs": [],
   "source": [
    "def current_constraint_function(sa):\n",
    "    global constraint_nn, device\n",
    "    s, a = sa\n",
    "    return constraint_nn(torch.tensor(s, device=device, dtype=torch.float))  # Change this depending on the constraint_nn input"
   ]
  },
  {
   "cell_type": "markdown",
   "id": "ab201070-bf98-4a6c-8484-a8a5cc17a11f",
   "metadata": {
    "tags": []
   },
   "source": [
    "# PPO Penalty"
   ]
  },
  {
   "cell_type": "markdown",
   "id": "584b2cac-aec1-470a-ae7f-73f20cad79e2",
   "metadata": {},
   "source": [
    "Make policy and value networks for PPO:"
   ]
  },
  {
   "cell_type": "code",
   "execution_count": 9,
   "id": "6ab8d613",
   "metadata": {
    "tags": []
   },
   "outputs": [],
   "source": [
    "def make_nn():\n",
    "    global obs_n, act_n, hidden_dim, device\n",
    "    value_nn = torch.nn.Sequential(\n",
    "        torch.nn.Linear(obs_n, hidden_dim), torch.nn.ReLU(),\n",
    "        torch.nn.Linear(hidden_dim, hidden_dim), torch.nn.ReLU(),\n",
    "        torch.nn.Linear(hidden_dim, 1),\n",
    "    ).to(device)\n",
    "    policy_nn = torch.nn.Sequential(\n",
    "        torch.nn.Linear(obs_n, hidden_dim), torch.nn.ReLU(),\n",
    "        torch.nn.Linear(hidden_dim, hidden_dim), torch.nn.ReLU(),\n",
    "        torch.nn.Linear(hidden_dim, act_n),\n",
    "    ).to(device)\n",
    "    return value_nn, policy_nn"
   ]
  },
  {
   "cell_type": "markdown",
   "id": "8a3f207a-a885-463c-81a3-752ab160cea9",
   "metadata": {},
   "source": [
    "Play an episode using the policy neural network and return states, actions, rewards and constraint values for the episode"
   ]
  },
  {
   "cell_type": "code",
   "execution_count": 10,
   "id": "1617e231-7c3e-4a21-8cf6-550c0c4e96e4",
   "metadata": {
    "tags": []
   },
   "outputs": [],
   "source": [
    "def play_episode(env, policy_nn, constraint_fn):\n",
    "    global device\n",
    "    S, A, R, C = [], [], [], []\n",
    "    S += [env.reset()]\n",
    "    done = False\n",
    "    while not done:\n",
    "        probs = torch.nn.Softmax(dim=-1)(policy_nn(torch.tensor(S[-1], device=device, dtype=torch.float))).view(-1)\n",
    "        action = np.random.choice(act_n, p=probs.cpu().detach().numpy())\n",
    "        A += [action]\n",
    "        next_state, reward, done, info = env.step(action)\n",
    "        C += [constraint_fn((S[-1], action))]\n",
    "        S += [next_state]\n",
    "        R += [reward]\n",
    "    return S, A, R, C"
   ]
  },
  {
   "cell_type": "markdown",
   "id": "9ebb15d0-d3c2-4d74-81df-9e4b443e62f6",
   "metadata": {},
   "source": [
    "Convert $r_0, r_1, r_2, \\cdots$ into $G_0, G_1, G_2, \\cdots$ where $G_k = \\sum_{t=k} \\gamma^{t-k} r_t$"
   ]
  },
  {
   "cell_type": "code",
   "execution_count": 11,
   "id": "262096f1-bd33-4106-93fd-544521c56c9a",
   "metadata": {
    "tags": []
   },
   "outputs": [],
   "source": [
    "def discount(x, invert=False):\n",
    "    global discount_factor\n",
    "    n = len(x)\n",
    "    g = 0\n",
    "    d = []\n",
    "    for i in range(n):\n",
    "        if not invert:\n",
    "            g = x[n - 1 - i] + discount_factor * g\n",
    "            d = [g] + d\n",
    "        else:\n",
    "            g = g + x[i] * (discount_factor**i)\n",
    "            d = d + [g]\n",
    "    return d"
   ]
  },
  {
   "cell_type": "markdown",
   "id": "1bf9ebbd-a0ba-4136-8317-259e7ebbed64",
   "metadata": {},
   "source": [
    "PPO Replay Buffer:"
   ]
  },
  {
   "cell_type": "code",
   "execution_count": 12,
   "id": "4aa7a3c9-6443-482b-a763-da1d31ea96a3",
   "metadata": {
    "tags": []
   },
   "outputs": [],
   "source": [
    "class ReplayBuffer:\n",
    "    def __init__(self, N):\n",
    "        global obs_n, device\n",
    "        self.N = N\n",
    "        self.S = torch.zeros((self.N, obs_n), dtype=torch.float, device=device)\n",
    "        self.A = torch.zeros((self.N), dtype=torch.long, device=device)\n",
    "        self.G = torch.zeros((self.N), dtype=torch.float, device=device)\n",
    "        self.log_probs = torch.zeros((self.N), dtype=torch.float, device=device)\n",
    "        self.i = 0\n",
    "        self.filled = 0\n",
    "\n",
    "    def add(self, S, A, G, log_probs):\n",
    "        M = S.shape[0]\n",
    "        self.filled = min(self.filled + M, self.N)\n",
    "        assert M <= self.N\n",
    "        for j in range(M):\n",
    "            self.S[self.i] = S[j, :]\n",
    "            self.A[self.i] = A[j]\n",
    "            self.G[self.i] = G[j]\n",
    "            self.log_probs[self.i] = log_probs[j]\n",
    "            self.i = (self.i + 1) % self.N\n",
    "\n",
    "    def sample(self, n):\n",
    "        global device\n",
    "        minibatch = random.sample(range(self.filled), min(n, self.filled))\n",
    "        S, A, G, log_probs = [], [], [], []\n",
    "        for mbi in minibatch:\n",
    "            s, a, g, lp = self.S[mbi], self.A[mbi], self.G[mbi], self.log_probs[mbi]\n",
    "            S += [s]\n",
    "            A += [a]\n",
    "            G += [g]\n",
    "            log_probs += [lp]\n",
    "        return torch.stack(S), torch.stack(A), torch.stack(G), torch.stack(log_probs)"
   ]
  },
  {
   "cell_type": "markdown",
   "id": "140c8897-ae5a-4657-8286-96a722b8a36c",
   "metadata": {},
   "source": [
    "PPO Penalty Code (for algorithm, see ICL paper appendix):"
   ]
  },
  {
   "cell_type": "code",
   "execution_count": 13,
   "id": "a56ee17c-93d3-4d09-9093-c6a6803768ac",
   "metadata": {
    "tags": []
   },
   "outputs": [],
   "source": [
    "def ppo_penalty(n_epochs, env, policy_nn, value_nn, constraint_fn, additional_fn_condition=None, additional_fn_epoch_end=None):\n",
    "    # Additional function to be run when additional function condition is met\n",
    "    # Additional function takes in current policy_nn and current iteration number\n",
    "    global episodes_per_epoch, replay_buffer_size, learning_rate_feasibility, beta\n",
    "    global ppo_subepochs, minibatch_size, learning_rate, device\n",
    "    buffer = ReplayBuffer(replay_buffer_size)\n",
    "    value_opt = torch.optim.Adam(value_nn.parameters(), lr=learning_rate)\n",
    "    policy_opt = torch.optim.Adam(policy_nn.parameters(), lr=learning_rate)\n",
    "    pbar = tqdm.notebook.tqdm(total=n_epochs)\n",
    "    for epoch in range(n_epochs):\n",
    "        S_e, A_e, G_e, Gc_e, Indices = [], [], [], [], []\n",
    "        G0_e, Gc0_e = [], []\n",
    "        max_cost_reached = 0.0\n",
    "        max_cost_reached_n = 0\n",
    "        S_e_buf, A_e_buf, G_e_buf = [], [], []\n",
    "        for episode in range(episodes_per_epoch):\n",
    "            S, A, R, C = play_episode(env, policy_nn, constraint_fn)\n",
    "            start_index = len(A_e)\n",
    "            S_e += S[:-1]  # ignore last state\n",
    "            A_e += A\n",
    "            G_e += discount(R)\n",
    "            G0_e += [float(discount(R)[0])]\n",
    "            Gc_e += discount(C)\n",
    "            Gc0_e += [float(discount(C)[0])]\n",
    "            end_index = len(A_e)\n",
    "            Indices += [(start_index, end_index)]\n",
    "            # Only add those experiences to replay buffer which are before the constraint violation\n",
    "            inverted_discount = torch.tensor(discount(C, invert=True), dtype=torch.float, device=device)\n",
    "            good_until = len(inverted_discount)\n",
    "            for idx, item in enumerate(inverted_discount):\n",
    "                if item >= beta:\n",
    "                    good_until = idx + 1\n",
    "                    break\n",
    "            S_e_buf += S[:-1][:good_until]\n",
    "            A_e_buf += A[:good_until]\n",
    "            G_e_buf += discount(R[:good_until])\n",
    "            if Gc0_e[-1] >= beta:\n",
    "                max_cost_reached += 1\n",
    "            max_cost_reached_n += 1\n",
    "        pbar.set_description(\"Epoch %d:\\tG_avg = %.2f\\tGc_avg = %.2f\\tMaxCostReached = %.2f\"\n",
    "            % (epoch, np.mean(G0_e), np.mean(Gc0_e), float(max_cost_reached / max_cost_reached_n)))\n",
    "        S_e = torch.tensor(S_e, dtype=torch.float, device=device)\n",
    "        A_e = torch.tensor(A_e, dtype=torch.long, device=device)\n",
    "        G_e = torch.tensor(G_e, dtype=torch.float, device=device)\n",
    "        Gc_e = torch.tensor(Gc_e, dtype=torch.float, device=device)\n",
    "        S_e_buf = torch.tensor(S_e_buf, dtype=torch.float, device=device)\n",
    "        A_e_buf = torch.tensor(A_e_buf, dtype=torch.long, device=device)\n",
    "        G_e_buf = torch.tensor(G_e_buf, dtype=torch.float, device=device)\n",
    "        log_probs_e_buf = torch.nn.LogSoftmax(dim=-1)(policy_nn(S_e_buf)).gather(1, A_e_buf.view(-1, 1)).view(-1)\n",
    "        buffer.add(S_e_buf, A_e_buf, G_e_buf, log_probs_e_buf.detach())\n",
    "        feasibility_opt = torch.optim.Adam(policy_nn.parameters(), lr=learning_rate_feasibility)\n",
    "        # Penalty update on complete trajectories\n",
    "        for start_index, end_index in Indices:\n",
    "            Gc = Gc_e[start_index:end_index].view(-1)\n",
    "            log_probs = torch.nn.LogSoftmax(dim=-1)(policy_nn(S_e[start_index:end_index])).gather(1, A_e[start_index:end_index].view(-1, 1)).view(-1)\n",
    "            feasibility_opt.zero_grad()\n",
    "            feasibility_loss = (Gc[0] >= beta) * ((Gc * log_probs).sum())\n",
    "            feasibility_loss.backward()\n",
    "            feasibility_opt.step()\n",
    "        # Policy and value update from replay buffer\n",
    "        for subepoch in range(ppo_subepochs):\n",
    "            S, A, G, old_log_probs = buffer.sample(minibatch_size)\n",
    "            log_probs = torch.nn.LogSoftmax(dim=-1)(policy_nn(S)).gather(1, A.view(-1, 1)).view(-1)\n",
    "            value_opt.zero_grad()\n",
    "            value_loss = (G - value_nn(S)).pow(2).mean()\n",
    "            value_loss.backward()\n",
    "            value_opt.step()\n",
    "            policy_opt.zero_grad()\n",
    "            advantages = G - value_nn(S)\n",
    "            ratio = torch.exp(log_probs - old_log_probs)\n",
    "            clipped_ratio = torch.clamp(ratio, 1 - clip_param, 1 + clip_param)\n",
    "            policy_loss = -torch.min(ratio * advantages, clipped_ratio * advantages).mean()\n",
    "            probs_all = torch.nn.Softmax(dim=-1)(policy_nn(S))\n",
    "            log_probs_all = torch.nn.LogSoftmax(dim=-1)(policy_nn(S))\n",
    "            entropy = -(probs_all * log_probs_all).sum(1).mean()\n",
    "            policy_loss -= entropy_coef * entropy\n",
    "            policy_loss.backward()\n",
    "            policy_opt.step()\n",
    "        # Run additional function at epoch end if condition is met\n",
    "        # Just in case we need it for later! (and we will)\n",
    "        if additional_fn_condition != None and additional_fn_epoch_end != None:\n",
    "            if additional_fn_condition(epoch, policy_nn) == True:\n",
    "                additional_fn_epoch_end(epoch, policy_nn)\n",
    "        pbar.update(1)"
   ]
  },
  {
   "cell_type": "markdown",
   "id": "e4e045be-9ef0-4335-8a0b-2728d44e8e0a",
   "metadata": {},
   "source": [
    "* Collect $n$ trajectories using policy\n",
    "* If `only_success` is True, then only return a set of trajectories that do not violate"
   ]
  },
  {
   "cell_type": "code",
   "execution_count": 14,
   "id": "d34b176a-9b01-4cd8-8c1d-1d3d8b384fef",
   "metadata": {},
   "outputs": [],
   "source": [
    "def collect_trajectories(n, env, policy_nn, constraint_fn, only_success=False):\n",
    "    data = []\n",
    "    for traj in tqdm.notebook.tqdm(range(n)):\n",
    "        S, A, R, C = play_episode(env, policy_nn, constraint_fn)\n",
    "        while (not (discount(C)[0] <= beta)) and only_success:\n",
    "            S, A, R, C = play_episode(test_env, policy_nn, constraint_fn)\n",
    "        data += [[S[:-1], A]]\n",
    "    return data"
   ]
  },
  {
   "cell_type": "markdown",
   "id": "9fa4ccdd-7b51-41d9-ad8b-64a8c70a0fbd",
   "metadata": {},
   "source": [
    "# Normalizing flow"
   ]
  },
  {
   "cell_type": "markdown",
   "id": "fc93af3d-a27d-4246-a2e8-adaf97657c7f",
   "metadata": {},
   "source": [
    "Convert any set of trajectories to data which can be used to train the normalizing flow:"
   ]
  },
  {
   "cell_type": "code",
   "execution_count": 15,
   "id": "68f31b98-2e97-4c07-b6b2-3bd307318f7b",
   "metadata": {},
   "outputs": [],
   "source": [
    "def convert_to_flow_data(data):\n",
    "    global device\n",
    "    flow_data = []\n",
    "    for S, A in data:\n",
    "        for s, a in zip(S, A):\n",
    "            flow_data += [s]  # Change this depending on your constraint_nn input\n",
    "    flow_data = torch.tensor(flow_data, dtype=torch.float, device=device)\n",
    "    return flow_data"
   ]
  },
  {
   "cell_type": "markdown",
   "id": "c2b87b3c-9e85-4fda-acce-b53c79d8115f",
   "metadata": {},
   "source": [
    "Compute trajectory dissimilarity w.r.t. expert NLL:"
   ]
  },
  {
   "cell_type": "code",
   "execution_count": 16,
   "id": "067ab115-b54a-453a-9513-fb6191abd018",
   "metadata": {},
   "outputs": [],
   "source": [
    "def dissimilarity_wrt_expert(data, mean=True):\n",
    "    global flow, expert_nll, device\n",
    "    expert_nll_mean, expert_nll_std = expert_nll\n",
    "    sims = []\n",
    "    for S, A in data:\n",
    "        traj_data = S  # Change this depending on your constraint_nn input\n",
    "        traj_data = torch.tensor(traj_data, dtype=torch.float, device=device)\n",
    "        traj_nll = -flow.log_probs(traj_data).detach()\n",
    "        sims += [(traj_nll > expert_nll_mean + expert_nll_std).float().mean()]\n",
    "    if mean:\n",
    "        return np.mean(sims)\n",
    "    return torch.tensor(sims, dtype=torch.float, device=device)"
   ]
  },
  {
   "cell_type": "markdown",
   "id": "0dc3c921-a313-4d06-874c-69dad7357ff5",
   "metadata": {},
   "source": [
    "# Constraint function adjustment"
   ]
  },
  {
   "cell_type": "markdown",
   "id": "d2b3a1d6-7fb5-4346-8cf5-cd5ca83cee46",
   "metadata": {},
   "source": [
    "Collect a set of trajectories using a mixture of policies:"
   ]
  },
  {
   "cell_type": "code",
   "execution_count": 17,
   "id": "203d24f6-6924-4b3b-9509-a818c4ddd32f",
   "metadata": {},
   "outputs": [],
   "source": [
    "def collect_trajectories_mixture(n, env, policy_mixture, weights_mixture, constraint_fn):\n",
    "    data = []\n",
    "    value_nn, policy_nn = make_nn()\n",
    "    normalized_weights_mixture = np.copy(weights_mixture) / np.sum(weights_mixture)\n",
    "    m = len(weights_mixture)\n",
    "    for traj in tqdm.notebook.tqdm(range(n)):\n",
    "        chosen_policy_idx = np.random.choice(m, p=normalized_weights_mixture)\n",
    "        policy_nn.load_state_dict(policy_mixture[chosen_policy_idx])\n",
    "        S, A, R, C = play_episode(env, policy_nn, constraint_fn)\n",
    "        data += [[S[:-1], A]]\n",
    "    return data"
   ]
  },
  {
   "cell_type": "markdown",
   "id": "f0a7ba9d-d44b-448e-a2a1-f31b04b49261",
   "metadata": {},
   "source": [
    "Compute the discounted constraint value for each trajectory in a set of trajectories:"
   ]
  },
  {
   "cell_type": "code",
   "execution_count": 18,
   "id": "6a85568f-22cc-4311-912c-ba3850ac9997",
   "metadata": {},
   "outputs": [],
   "source": [
    "def compute_current_constraint_value_trajectory(constraint_nn, data):\n",
    "    global device\n",
    "    Gc0 = []\n",
    "    for S, A in data:\n",
    "        input_to_constraint_nn = []\n",
    "        for s, a in zip(S, A):\n",
    "            input_to_constraint_nn += [s]  # Change this depending on your constraint_nn input\n",
    "        input_to_constraint_nn = torch.tensor(input_to_constraint_nn, dtype=torch.float, device=device)\n",
    "        constraint_values = constraint_nn(input_to_constraint_nn).view(-1)\n",
    "        Gc0 += [discount(constraint_values)[0]]\n",
    "    return torch.stack(Gc0)"
   ]
  },
  {
   "cell_type": "markdown",
   "id": "4ccce44e-a0fa-4f39-a7df-f180cc112555",
   "metadata": {},
   "source": [
    "Constraint function adjustment:"
   ]
  },
  {
   "cell_type": "code",
   "execution_count": 19,
   "id": "bab98d84-3d52-41fd-afa5-74bd25468d7e",
   "metadata": {},
   "outputs": [],
   "source": [
    "def constraint_function_adjustment(n, constraint_nn, constraint_opt, expert_data, agent_data):\n",
    "    global beta, alpha\n",
    "    losses = []\n",
    "    for _ in range(n):\n",
    "        constraint_opt.zero_grad()\n",
    "        per_traj_dissimilarity = dissimilarity_wrt_expert(agent_data, mean=False)\n",
    "        per_traj_dissimilarity = per_traj_dissimilarity / per_traj_dissimilarity.sum()\n",
    "        agent_data_constraint_returns = compute_current_constraint_value_trajectory(constraint_nn, agent_data)\n",
    "        expert_data_constraint_returns = compute_current_constraint_value_trajectory(constraint_nn, expert_data)\n",
    "        loss1 = -(agent_data_constraint_returns * per_traj_dissimilarity).sum()\n",
    "        loss2 = ((expert_data_constraint_returns >= beta).float() * (expert_data_constraint_returns - beta)).mean()\n",
    "        loss = loss1 + alpha * loss2\n",
    "        loss.backward()\n",
    "        constraint_opt.step()\n",
    "        losses += [loss.item()]\n",
    "    return np.mean(losses)"
   ]
  },
  {
   "cell_type": "markdown",
   "id": "f76450ce-3e8d-4aa8-a72f-a29519a9917e",
   "metadata": {},
   "source": [
    "At the end of each PPO Penalty epoch, update dissimilarity and mixture weights if necessary:"
   ]
  },
  {
   "cell_type": "code",
   "execution_count": 20,
   "id": "5b704a6b-6f14-4cdf-be88-7930969c9875",
   "metadata": {},
   "outputs": [],
   "source": [
    "def condition(epoch, policy_nn):\n",
    "    if (epoch + 1) % policy_add_to_mix_every == 0:\n",
    "        return True\n",
    "    return False"
   ]
  },
  {
   "cell_type": "code",
   "execution_count": 21,
   "id": "2a4bee65-e7fd-494e-9922-bb6f3220735c",
   "metadata": {},
   "outputs": [],
   "source": [
    "def command(epoch, policy_nn):\n",
    "    global policy_mixture, weights_mixture, agent_data\n",
    "    global expert_data, test_env\n",
    "    agent_data = collect_trajectories(len(expert_data), test_env, policy_nn, current_constraint_function)\n",
    "    policy_mixture += [copy.deepcopy(policy_nn.state_dict())]\n",
    "    weights_mixture += [dissimilarity_wrt_expert(agent_data)]\n",
    "    print(\"Added policy with dissimilarity = %.2f\" % weights_mixture[-1])"
   ]
  },
  {
   "cell_type": "markdown",
   "id": "9a57ec7c-08e5-46c9-8dfa-cbc1cfa05a03",
   "metadata": {},
   "source": [
    "Generate expert data:"
   ]
  },
  {
   "cell_type": "code",
   "execution_count": 22,
   "id": "43a250d2-9e42-4df7-919c-0c98b65346e1",
   "metadata": {},
   "outputs": [],
   "source": [
    "def generate_expert_data(env, only_success=False):  # use only_success if the policy isn't great and you just want to get optimal trajectories\n",
    "    global ppo_iters, n_trajs\n",
    "    value_nn, policy_nn = make_nn()\n",
    "    ppo_penalty(ppo_iters, env, policy_nn, value_nn, true_constraint_function)\n",
    "    expert_data = collect_trajectories(n_trajs, test_env, policy_nn, true_constraint_function, only_success=only_success)\n",
    "    return expert_data"
   ]
  },
  {
   "cell_type": "markdown",
   "id": "811b3dab-6b0f-42a6-89f5-e79f8b87ec6b",
   "metadata": {},
   "source": [
    "# Configuration"
   ]
  },
  {
   "cell_type": "code",
   "execution_count": 23,
   "id": "54844f68-90df-4401-a354-6335a1348af6",
   "metadata": {},
   "outputs": [],
   "source": [
    "if __name__ == \"__main__\":\n",
    "    seed_fn(1)\n",
    "    gridworld_dim = 7\n",
    "    n_actions = 8\n",
    "    constraint_fn_input_dim = 2\n",
    "    hidden_dim = 64\n",
    "    env, test_env = create_env(), create_env()\n",
    "    obs_n = env.observation_space.shape[0]\n",
    "    act_n = env.action_space.n\n",
    "    discount_factor = 1.0\n",
    "    episodes_per_epoch = 20\n",
    "    ppo_subepochs = 25\n",
    "    replay_buffer_size = 10000\n",
    "    learning_rate = 5e-4\n",
    "    learning_rate_feasibility = 2.5e-5\n",
    "    minibatch_size = 64\n",
    "    clip_param = 0.1\n",
    "    entropy_coef = 0.01\n",
    "    beta = 0.99\n",
    "    alpha = 15"
   ]
  },
  {
   "cell_type": "code",
   "execution_count": 24,
   "id": "9e907ad5-f35b-4358-b197-d205878429d4",
   "metadata": {},
   "outputs": [],
   "source": [
    "if __name__ == \"__main__\":\n",
    "    n_iters = 5\n",
    "    flow_iters = 20\n",
    "    ppo_iters = 500\n",
    "    policy_add_to_mix_every = 250\n",
    "    ca_iters = 20\n",
    "    n_trajs = 50"
   ]
  },
  {
   "cell_type": "markdown",
   "id": "ac6decdb-ab2d-4a12-b427-9ac7d2025325",
   "metadata": {},
   "source": [
    "# ICL"
   ]
  },
  {
   "cell_type": "code",
   "execution_count": 25,
   "id": "2ce15589-4320-44ea-9d64-4a97fa452c67",
   "metadata": {},
   "outputs": [
    {
     "data": {
      "image/png": "[encoded data removed]",
      "text/plain": [
       "<Figure size 300x300 with 2 Axes>"
      ]
     },
     "metadata": {},
     "output_type": "display_data"
    }
   ],
   "source": [
    "if __name__ == \"__main__\":\n",
    "    constraint_nn = torch.nn.Sequential(\n",
    "        torch.nn.Linear(constraint_fn_input_dim, hidden_dim), torch.nn.ReLU(),\n",
    "        torch.nn.Linear(hidden_dim, hidden_dim), torch.nn.ReLU(),\n",
    "        torch.nn.Linear(hidden_dim, 1), torch.nn.Sigmoid(),\n",
    "    )\n",
    "    constraint_opt = torch.optim.Adam(constraint_nn.parameters(), lr=learning_rate)\n",
    "    visualize_constraint(current_constraint_function)"
   ]
  },
  {
   "cell_type": "code",
   "execution_count": 26,
   "id": "528fa7dd-0b8c-4fb5-8b02-7d957f21f77c",
   "metadata": {},
   "outputs": [
    {
     "data": {
      "application/vnd.jupyter.widget-view+json": {
       "model_id": "7c683e3686314d109812b061e271b2c6",
       "version_major": 2,
       "version_minor": 0
      },
      "text/plain": [
       "  0%|          | 0/500 [00:00<?, ?it/s]"
      ]
     },
     "metadata": {},
     "output_type": "display_data"
    },
    {
     "data": {
      "application/vnd.jupyter.widget-view+json": {
       "model_id": "febc268795964575a8abad5f8dadede7",
       "version_major": 2,
       "version_minor": 0
      },
      "text/plain": [
       "  0%|          | 0/50 [00:00<?, ?it/s]"
      ]
     },
     "metadata": {},
     "output_type": "display_data"
    },
    {
     "data": {
      "image/png": "[encoded data removed]",
      "text/plain": [
       "<Figure size 300x300 with 2 Axes>"
      ]
     },
     "metadata": {},
     "output_type": "display_data"
    }
   ],
   "source": [
    "if __name__ == \"__main__\":\n",
    "    expert_data = generate_expert_data(env)\n",
    "    visualize_accrual(expert_data)"
   ]
  },
  {
   "cell_type": "code",
   "execution_count": 27,
   "id": "eeb85fc1-2dcd-4747-bf8b-d1f14bf43d9d",
   "metadata": {},
   "outputs": [
    {
     "name": "stdout",
     "output_type": "stream",
     "text": [
      "{'avg_nll': 2.24755309178279, 'std_nll': 0.14424446043900727}\n",
      "{'avg_nll': 2.066843908566695, 'std_nll': 0.08905543378543862}\n",
      "{'avg_nll': 1.9754672646522522, 'std_nll': 0.07425115636972114}\n",
      "{'avg_nll': 1.867663167990171, 'std_nll': 0.1071869789911104}\n",
      "{'avg_nll': 1.686857397739704, 'std_nll': 0.10720399854009736}\n",
      "{'avg_nll': 1.454549592274886, 'std_nll': 0.1454145007086213}\n",
      "{'avg_nll': 1.2890073565336375, 'std_nll': 0.1241290860548404}\n",
      "{'avg_nll': 1.144765936411344, 'std_nll': 0.18100003533605957}\n",
      "{'avg_nll': 1.1555754840373993, 'std_nll': 0.5734541329946926}\n",
      "{'avg_nll': 1.4207507555301373, 'std_nll': 0.1951595117079672}\n",
      "{'avg_nll': 1.1500869324574103, 'std_nll': 0.16274897487443293}\n",
      "{'avg_nll': 0.9985516163019034, 'std_nll': 0.2507731558283449}\n",
      "{'avg_nll': 1.21943687246396, 'std_nll': 0.23286599721598253}\n",
      "{'avg_nll': 1.0024722172663763, 'std_nll': 0.16273307826036715}\n",
      "{'avg_nll': 0.8999180885461661, 'std_nll': 0.42540828668531366}\n",
      "{'avg_nll': 1.0993613600730896, 'std_nll': 0.27324144826001906}\n",
      "{'avg_nll': 0.8824206774051373, 'std_nll': 0.14356913749959077}\n",
      "{'avg_nll': 1.0270679833797307, 'std_nll': 0.9500063812704055}\n",
      "{'avg_nll': 1.6422188511261573, 'std_nll': 0.5345700620753423}\n",
      "{'avg_nll': 1.1967134659106915, 'std_nll': 0.12261583886355361}\n"
     ]
    }
   ],
   "source": [
    "if __name__ == \"__main__\":\n",
    "    flow_data = convert_to_flow_data(expert_data)\n",
    "    flow_config = tools.data.Configuration({\n",
    "        \"normalize_flow_inputs\": True,\n",
    "        \"minibatch_size\": minibatch_size,\n",
    "        \"learning_rate\": learning_rate,\n",
    "    })\n",
    "    flow_config[\"t\"].device = device\n",
    "    flow = tools.functions.create_flow(flow_config, flow_data, \"realnvp\", constraint_fn_input_dim)\n",
    "    for flowepoch in range(flow_iters):\n",
    "        metrics = flow.train()\n",
    "        print(metrics)\n",
    "    nll = -flow.log_probs(flow_data)\n",
    "    expert_nll = (nll.mean(), nll.std())"
   ]
  },
  {
   "cell_type": "code",
   "execution_count": 28,
   "id": "c2d0d671-709f-4b71-b56f-5b9277af4777",
   "metadata": {},
   "outputs": [
    {
     "name": "stdout",
     "output_type": "stream",
     "text": [
      "Expert satisfaction = 0.00\n",
      "ICL iteration 0 ...\n"
     ]
    },
    {
     "data": {
      "application/vnd.jupyter.widget-view+json": {
       "model_id": "f62878fe2d234e669de13a551e1acea9",
       "version_major": 2,
       "version_minor": 0
      },
      "text/plain": [
       "  0%|          | 0/500 [00:00<?, ?it/s]"
      ]
     },
     "metadata": {},
     "output_type": "display_data"
    },
    {
     "data": {
      "application/vnd.jupyter.widget-view+json": {
       "model_id": "73bf4f2cc77e43e5a56cceb03ed97b2b",
       "version_major": 2,
       "version_minor": 0
      },
      "text/plain": [
       "  0%|          | 0/50 [00:00<?, ?it/s]"
      ]
     },
     "metadata": {},
     "output_type": "display_data"
    },
    {
     "name": "stdout",
     "output_type": "stream",
     "text": [
      "Added policy with dissimilarity = 0.58\n"
     ]
    },
    {
     "data": {
      "application/vnd.jupyter.widget-view+json": {
       "model_id": "a740547ae0fb4f729ce6d3403603ba1a",
       "version_major": 2,
       "version_minor": 0
      },
      "text/plain": [
       "  0%|          | 0/50 [00:00<?, ?it/s]"
      ]
     },
     "metadata": {},
     "output_type": "display_data"
    },
    {
     "name": "stdout",
     "output_type": "stream",
     "text": [
      "Added policy with dissimilarity = 0.60\n"
     ]
    },
    {
     "data": {
      "application/vnd.jupyter.widget-view+json": {
       "model_id": "a2048c739fe743eb854ac4d970d51566",
       "version_major": 2,
       "version_minor": 0
      },
      "text/plain": [
       "  0%|          | 0/50 [00:00<?, ?it/s]"
      ]
     },
     "metadata": {},
     "output_type": "display_data"
    },
    {
     "data": {
      "application/vnd.jupyter.widget-view+json": {
       "model_id": "0aa4b0bef422401e96a747143ee81d31",
       "version_major": 2,
       "version_minor": 0
      },
      "text/plain": [
       "  0%|          | 0/50 [00:00<?, ?it/s]"
      ]
     },
     "metadata": {},
     "output_type": "display_data"
    },
    {
     "data": {
      "image/png": "[encoded data removed]",
      "text/plain": [
       "<Figure size 1200x300 with 8 Axes>"
      ]
     },
     "metadata": {},
     "output_type": "display_data"
    },
    {
     "data": {
      "application/vnd.jupyter.widget-view+json": {
       "model_id": "1fb32e1c441b4aa08b8ae678f2c4daba",
       "version_major": 2,
       "version_minor": 0
      },
      "text/plain": [
       "  0%|          | 0/20 [00:00<?, ?it/s]"
      ]
     },
     "metadata": {},
     "output_type": "display_data"
    },
    {
     "name": "stdout",
     "output_type": "stream",
     "text": [
      "Expert satisfaction = 0.90\n",
      "ICL iteration 1 ...\n"
     ]
    },
    {
     "data": {
      "application/vnd.jupyter.widget-view+json": {
       "model_id": "68b491bc70e84af0b09fe35cd6fd159c",
       "version_major": 2,
       "version_minor": 0
      },
      "text/plain": [
       "  0%|          | 0/500 [00:00<?, ?it/s]"
      ]
     },
     "metadata": {},
     "output_type": "display_data"
    },
    {
     "data": {
      "application/vnd.jupyter.widget-view+json": {
       "model_id": "46b00b89f16d406f93f607406d8542e6",
       "version_major": 2,
       "version_minor": 0
      },
      "text/plain": [
       "  0%|          | 0/50 [00:00<?, ?it/s]"
      ]
     },
     "metadata": {},
     "output_type": "display_data"
    },
    {
     "name": "stdout",
     "output_type": "stream",
     "text": [
      "Added policy with dissimilarity = 0.68\n"
     ]
    },
    {
     "data": {
      "application/vnd.jupyter.widget-view+json": {
       "model_id": "da0d9881d40b448abc8748490adcd551",
       "version_major": 2,
       "version_minor": 0
      },
      "text/plain": [
       "  0%|          | 0/50 [00:00<?, ?it/s]"
      ]
     },
     "metadata": {},
     "output_type": "display_data"
    },
    {
     "name": "stdout",
     "output_type": "stream",
     "text": [
      "Added policy with dissimilarity = 0.72\n"
     ]
    },
    {
     "data": {
      "application/vnd.jupyter.widget-view+json": {
       "model_id": "4e787d6b69c94a43b26855f5aed6dcb8",
       "version_major": 2,
       "version_minor": 0
      },
      "text/plain": [
       "  0%|          | 0/50 [00:00<?, ?it/s]"
      ]
     },
     "metadata": {},
     "output_type": "display_data"
    },
    {
     "data": {
      "application/vnd.jupyter.widget-view+json": {
       "model_id": "9849a0c1b72649c89c78bda4269eae88",
       "version_major": 2,
       "version_minor": 0
      },
      "text/plain": [
       "  0%|          | 0/50 [00:00<?, ?it/s]"
      ]
     },
     "metadata": {},
     "output_type": "display_data"
    },
    {
     "data": {
      "image/png": "[encoded data removed]",
      "text/plain": [
       "<Figure size 1200x300 with 8 Axes>"
      ]
     },
     "metadata": {},
     "output_type": "display_data"
    },
    {
     "data": {
      "application/vnd.jupyter.widget-view+json": {
       "model_id": "8b22b0969caf424fb08432ffc76513f7",
       "version_major": 2,
       "version_minor": 0
      },
      "text/plain": [
       "  0%|          | 0/20 [00:00<?, ?it/s]"
      ]
     },
     "metadata": {},
     "output_type": "display_data"
    },
    {
     "name": "stdout",
     "output_type": "stream",
     "text": [
      "Expert satisfaction = 0.90\n",
      "ICL iteration 2 ...\n"
     ]
    },
    {
     "data": {
      "application/vnd.jupyter.widget-view+json": {
       "model_id": "897ce22968414863a9c9dd200f015396",
       "version_major": 2,
       "version_minor": 0
      },
      "text/plain": [
       "  0%|          | 0/500 [00:00<?, ?it/s]"
      ]
     },
     "metadata": {},
     "output_type": "display_data"
    },
    {
     "data": {
      "application/vnd.jupyter.widget-view+json": {
       "model_id": "8e55bd6b44794f45a812b57b5549b410",
       "version_major": 2,
       "version_minor": 0
      },
      "text/plain": [
       "  0%|          | 0/50 [00:00<?, ?it/s]"
      ]
     },
     "metadata": {},
     "output_type": "display_data"
    },
    {
     "name": "stdout",
     "output_type": "stream",
     "text": [
      "Added policy with dissimilarity = 0.52\n"
     ]
    },
    {
     "data": {
      "application/vnd.jupyter.widget-view+json": {
       "model_id": "e5663622beb647af862d70b41a317d8b",
       "version_major": 2,
       "version_minor": 0
      },
      "text/plain": [
       "  0%|          | 0/50 [00:00<?, ?it/s]"
      ]
     },
     "metadata": {},
     "output_type": "display_data"
    },
    {
     "name": "stdout",
     "output_type": "stream",
     "text": [
      "Added policy with dissimilarity = 0.62\n"
     ]
    },
    {
     "data": {
      "application/vnd.jupyter.widget-view+json": {
       "model_id": "36e299a9ea4846ebbbd0974e9d3bfd2b",
       "version_major": 2,
       "version_minor": 0
      },
      "text/plain": [
       "  0%|          | 0/50 [00:00<?, ?it/s]"
      ]
     },
     "metadata": {},
     "output_type": "display_data"
    },
    {
     "data": {
      "application/vnd.jupyter.widget-view+json": {
       "model_id": "973d6c09732d4f58a72d4792f0bfdf70",
       "version_major": 2,
       "version_minor": 0
      },
      "text/plain": [
       "  0%|          | 0/50 [00:00<?, ?it/s]"
      ]
     },
     "metadata": {},
     "output_type": "display_data"
    },
    {
     "data": {
      "image/png": "[encoded data removed]",
      "text/plain": [
       "<Figure size 1200x300 with 8 Axes>"
      ]
     },
     "metadata": {},
     "output_type": "display_data"
    },
    {
     "data": {
      "application/vnd.jupyter.widget-view+json": {
       "model_id": "c187296fbb704433ab3863e30ebe4923",
       "version_major": 2,
       "version_minor": 0
      },
      "text/plain": [
       "  0%|          | 0/20 [00:00<?, ?it/s]"
      ]
     },
     "metadata": {},
     "output_type": "display_data"
    },
    {
     "name": "stdout",
     "output_type": "stream",
     "text": [
      "Expert satisfaction = 0.88\n",
      "ICL iteration 3 ...\n"
     ]
    },
    {
     "data": {
      "application/vnd.jupyter.widget-view+json": {
       "model_id": "052d423727d04510a8f0d8a824ea6105",
       "version_major": 2,
       "version_minor": 0
      },
      "text/plain": [
       "  0%|          | 0/500 [00:00<?, ?it/s]"
      ]
     },
     "metadata": {},
     "output_type": "display_data"
    },
    {
     "data": {
      "application/vnd.jupyter.widget-view+json": {
       "model_id": "5b1cc23bda254a519477d033103797e0",
       "version_major": 2,
       "version_minor": 0
      },
      "text/plain": [
       "  0%|          | 0/50 [00:00<?, ?it/s]"
      ]
     },
     "metadata": {},
     "output_type": "display_data"
    },
    {
     "name": "stdout",
     "output_type": "stream",
     "text": [
      "Added policy with dissimilarity = 0.35\n"
     ]
    },
    {
     "data": {
      "application/vnd.jupyter.widget-view+json": {
       "model_id": "1215c1bd7cc2436597a5f5006a2da1bd",
       "version_major": 2,
       "version_minor": 0
      },
      "text/plain": [
       "  0%|          | 0/50 [00:00<?, ?it/s]"
      ]
     },
     "metadata": {},
     "output_type": "display_data"
    },
    {
     "name": "stdout",
     "output_type": "stream",
     "text": [
      "Added policy with dissimilarity = 0.28\n"
     ]
    },
    {
     "data": {
      "application/vnd.jupyter.widget-view+json": {
       "model_id": "56545b329b0c4a00af5928d08ae7c415",
       "version_major": 2,
       "version_minor": 0
      },
      "text/plain": [
       "  0%|          | 0/50 [00:00<?, ?it/s]"
      ]
     },
     "metadata": {},
     "output_type": "display_data"
    },
    {
     "data": {
      "application/vnd.jupyter.widget-view+json": {
       "model_id": "6ee6f1e49b1b4fe18d56d9b72af992a3",
       "version_major": 2,
       "version_minor": 0
      },
      "text/plain": [
       "  0%|          | 0/50 [00:00<?, ?it/s]"
      ]
     },
     "metadata": {},
     "output_type": "display_data"
    },
    {
     "data": {
      "image/png": "[encoded data removed]",
      "text/plain": [
       "<Figure size 1200x300 with 8 Axes>"
      ]
     },
     "metadata": {},
     "output_type": "display_data"
    },
    {
     "data": {
      "application/vnd.jupyter.widget-view+json": {
       "model_id": "0f38ecacfd874c20bb9d2f1e1a534d96",
       "version_major": 2,
       "version_minor": 0
      },
      "text/plain": [
       "  0%|          | 0/20 [00:00<?, ?it/s]"
      ]
     },
     "metadata": {},
     "output_type": "display_data"
    },
    {
     "name": "stdout",
     "output_type": "stream",
     "text": [
      "Expert satisfaction = 0.84\n",
      "ICL iteration 4 ...\n"
     ]
    },
    {
     "data": {
      "application/vnd.jupyter.widget-view+json": {
       "model_id": "203fa6745832449784ef4a2ab7130a84",
       "version_major": 2,
       "version_minor": 0
      },
      "text/plain": [
       "  0%|          | 0/500 [00:00<?, ?it/s]"
      ]
     },
     "metadata": {},
     "output_type": "display_data"
    },
    {
     "data": {
      "application/vnd.jupyter.widget-view+json": {
       "model_id": "22bb275f1f6e45ec9c093f35086dc5d8",
       "version_major": 2,
       "version_minor": 0
      },
      "text/plain": [
       "  0%|          | 0/50 [00:00<?, ?it/s]"
      ]
     },
     "metadata": {},
     "output_type": "display_data"
    },
    {
     "name": "stdout",
     "output_type": "stream",
     "text": [
      "Added policy with dissimilarity = 0.46\n"
     ]
    },
    {
     "data": {
      "application/vnd.jupyter.widget-view+json": {
       "model_id": "3d0c07c335df44409e7b9f3342cbe610",
       "version_major": 2,
       "version_minor": 0
      },
      "text/plain": [
       "  0%|          | 0/50 [00:00<?, ?it/s]"
      ]
     },
     "metadata": {},
     "output_type": "display_data"
    },
    {
     "name": "stdout",
     "output_type": "stream",
     "text": [
      "Added policy with dissimilarity = 0.19\n"
     ]
    },
    {
     "data": {
      "application/vnd.jupyter.widget-view+json": {
       "model_id": "acadb49e077d42f882718e985fcd999c",
       "version_major": 2,
       "version_minor": 0
      },
      "text/plain": [
       "  0%|          | 0/50 [00:00<?, ?it/s]"
      ]
     },
     "metadata": {},
     "output_type": "display_data"
    },
    {
     "data": {
      "application/vnd.jupyter.widget-view+json": {
       "model_id": "14a6c3df74a84d10bce1a8cabd000dd7",
       "version_major": 2,
       "version_minor": 0
      },
      "text/plain": [
       "  0%|          | 0/50 [00:00<?, ?it/s]"
      ]
     },
     "metadata": {},
     "output_type": "display_data"
    },
    {
     "data": {
      "image/png": "[encoded data removed]",
      "text/plain": [
       "<Figure size 1200x300 with 8 Axes>"
      ]
     },
     "metadata": {},
     "output_type": "display_data"
    },
    {
     "data": {
      "application/vnd.jupyter.widget-view+json": {
       "model_id": "e18363f60d9c482ca3dcf563dddd6898",
       "version_major": 2,
       "version_minor": 0
      },
      "text/plain": [
       "  0%|          | 0/20 [00:00<?, ?it/s]"
      ]
     },
     "metadata": {},
     "output_type": "display_data"
    },
    {
     "name": "stdout",
     "output_type": "stream",
     "text": [
      "Expert satisfaction = 0.80\n"
     ]
    }
   ],
   "source": [
    "if __name__ == \"__main__\":\n",
    "    policy_mixture, weights_mixture = [], []\n",
    "    expert_satisfaction = (compute_current_constraint_value_trajectory(constraint_nn, expert_data) <= beta).float().mean()\n",
    "    print(\"Expert satisfaction = %.2f\" % expert_satisfaction)\n",
    "    for itr in range(n_iters):\n",
    "        print(\"ICL iteration %d ...\" % itr)\n",
    "        value_nn, policy_nn = make_nn()\n",
    "        ppo_penalty(ppo_iters, env, policy_nn, value_nn, current_constraint_function, condition, command)\n",
    "        agent_data = collect_trajectories(len(expert_data), test_env, policy_nn, current_constraint_function)\n",
    "        mixture_data = collect_trajectories_mixture(len(expert_data), test_env, policy_mixture, weights_mixture, current_constraint_function)\n",
    "        fig, ax = plt.subplots(1, 4, figsize=(12, 3))\n",
    "        visualize_constraint(true_constraint_function, fig, ax[0])\n",
    "        ax[0].set_title(\"True constraint\")\n",
    "        visualize_constraint(current_constraint_function, fig, ax[1])\n",
    "        ax[1].set_title(\"Learned constraint (itr = %d)\" % itr)\n",
    "        visualize_accrual(expert_data, fig, ax[2])\n",
    "        ax[2].set_title(\"Expert accrual\")\n",
    "        visualize_accrual(agent_data, fig, ax[3])\n",
    "        ax[3].set_title(\"Agent accrual\")\n",
    "        fig.tight_layout()\n",
    "        plt.show()\n",
    "        mixture_data_constraint_returns = compute_current_constraint_value_trajectory(constraint_nn, mixture_data)\n",
    "        for _ in tqdm.notebook.tqdm(range(ca_iters)):\n",
    "            constraint_function_adjustment(ca_iters, constraint_nn, constraint_opt, expert_data, mixture_data)\n",
    "        expert_satisfaction = (compute_current_constraint_value_trajectory(constraint_nn, expert_data) <= beta).float().mean()\n",
    "        print(\"Expert satisfaction = %.2f\" % expert_satisfaction)"
   ]
  },
  {
   "cell_type": "code",
   "execution_count": 29,
   "id": "32275d90-47a8-49ee-97c3-d06551c63b08",
   "metadata": {},
   "outputs": [
    {
     "data": {
      "application/vnd.jupyter.widget-view+json": {
       "model_id": "2e88f9dd64b54677a8b99852cf30ce64",
       "version_major": 2,
       "version_minor": 0
      },
      "text/plain": [
       "  0%|          | 0/500 [00:00<?, ?it/s]"
      ]
     },
     "metadata": {},
     "output_type": "display_data"
    },
    {
     "data": {
      "application/vnd.jupyter.widget-view+json": {
       "model_id": "4e6561fb76cc4e7aacaedd97a12e7bfc",
       "version_major": 2,
       "version_minor": 0
      },
      "text/plain": [
       "  0%|          | 0/50 [00:00<?, ?it/s]"
      ]
     },
     "metadata": {},
     "output_type": "display_data"
    },
    {
     "data": {
      "image/png": "[encoded data removed]",
      "text/plain": [
       "<Figure size 1200x300 with 8 Axes>"
      ]
     },
     "metadata": {},
     "output_type": "display_data"
    }
   ],
   "source": [
    "if __name__ == \"__main__\":\n",
    "    value_nn, policy_nn = make_nn()\n",
    "    ppo_penalty(ppo_iters, env, policy_nn, value_nn, current_constraint_function)\n",
    "    agent_data = collect_trajectories(len(expert_data), test_env, policy_nn, current_constraint_function)\n",
    "    fig, ax = plt.subplots(1, 4, figsize=(12, 3))\n",
    "    visualize_constraint(true_constraint_function, fig, ax[0])\n",
    "    ax[0].set_title(\"True constraint\")\n",
    "    visualize_constraint(current_constraint_function, fig, ax[1])\n",
    "    ax[1].set_title(\"Final constraint\")\n",
    "    visualize_accrual(expert_data, fig, ax[2])\n",
    "    ax[2].set_title(\"Expert accrual\")\n",
    "    visualize_accrual(agent_data, fig, ax[3])\n",
    "    ax[3].set_title(\"Final accrual\")\n",
    "    fig.tight_layout()\n",
    "    plt.show()"
   ]
  },
  {
   "cell_type": "code",
   "execution_count": null,
   "id": "89c35c2d-54b5-4fe6-a83f-6e67f03e2ff1",
   "metadata": {},
   "outputs": [],
   "source": []
  }
 ],
 "metadata": {
  "kernelspec": {
   "display_name": "Python 3 (ipykernel)",
   "language": "python",
   "name": "python3"
  },
  "language_info": {
   "codemirror_mode": {
    "name": "ipython",
    "version": 3
   },
   "file_extension": ".py",
   "mimetype": "text/x-python",
   "name": "python",
   "nbconvert_exporter": "python",
   "pygments_lexer": "ipython3",
   "version": "3.9.13"
  }
 },
 "nbformat": 4,
 "nbformat_minor": 5
}
