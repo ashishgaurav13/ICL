{
 "cells": [
  {
   "cell_type": "markdown",
   "id": "b8dc9916-a3cc-4fe5-af4b-3b199a773875",
   "metadata": {
    "tags": []
   },
   "source": [
    "# Initialization"
   ]
  },
  {
   "cell_type": "code",
   "execution_count": 1,
   "id": "d6217256",
   "metadata": {
    "tags": []
   },
   "outputs": [
    {
     "name": "stderr",
     "output_type": "stream",
     "text": [
      "2023-05-17 21:03:59.795788: I tensorflow/core/platform/cpu_feature_guard.cc:193] This TensorFlow binary is optimized with oneAPI Deep Neural Network Library (oneDNN) to use the following CPU instructions in performance-critical operations:  AVX2 FMA\n",
      "To enable them in other operations, rebuild TensorFlow with the appropriate compiler flags.\n",
      "2023-05-17 21:03:59.959048: E tensorflow/stream_executor/cuda/cuda_blas.cc:2981] Unable to register cuBLAS factory: Attempting to register factory for plugin cuBLAS when one has already been registered\n",
      "2023-05-17 21:04:00.528163: W tensorflow/stream_executor/platform/default/dso_loader.cc:64] Could not load dynamic library 'libnvinfer.so.7'; dlerror: libnvinfer.so.7: cannot open shared object file: No such file or directory; LD_LIBRARY_PATH: :/home/ashishgaurav13/.mujoco/mujoco210/bin:/usr/lib/nvidia\n",
      "2023-05-17 21:04:00.528240: W tensorflow/stream_executor/platform/default/dso_loader.cc:64] Could not load dynamic library 'libnvinfer_plugin.so.7'; dlerror: libnvinfer_plugin.so.7: cannot open shared object file: No such file or directory; LD_LIBRARY_PATH: :/home/ashishgaurav13/.mujoco/mujoco210/bin:/usr/lib/nvidia\n",
      "2023-05-17 21:04:00.528249: W tensorflow/compiler/tf2tensorrt/utils/py_utils.cc:38] TF-TRT Warning: Cannot dlopen some TensorRT libraries. If you would like to use Nvidia GPU with TensorRT, please make sure the missing libraries mentioned above are installed properly.\n"
     ]
    },
    {
     "name": "stdout",
     "output_type": "stream",
     "text": [
      "pygame 2.1.2 (SDL 2.0.16, Python 3.9.13)\n",
      "Hello from the pygame community. https://www.pygame.org/contribute.html\n"
     ]
    }
   ],
   "source": [
    "import torch\n",
    "import tools\n",
    "import numpy as np\n",
    "import random\n",
    "import os\n",
    "import matplotlib.pyplot as plt\n",
    "from mpl_toolkits.axes_grid1 import make_axes_locatable\n",
    "import tqdm\n",
    "import copy\n",
    "device = torch.device(\"cpu\")"
   ]
  },
  {
   "cell_type": "code",
   "execution_count": 2,
   "id": "c02ef1e3-53d8-4468-ab96-924d347b56ff",
   "metadata": {},
   "outputs": [],
   "source": [
    "def seed_fn(seed):\n",
    "    random.seed(seed)\n",
    "    np.random.seed(seed)\n",
    "    torch.manual_seed(seed)\n",
    "    torch.cuda.manual_seed(seed)\n",
    "    torch.backends.cudnn.benchmark = False\n",
    "    torch.backends.cudnn.deterministic = True"
   ]
  },
  {
   "cell_type": "code",
   "execution_count": 3,
   "id": "84774038-0b29-4d79-aa1c-f6eb210ec2a1",
   "metadata": {},
   "outputs": [],
   "source": [
    "seed_fn(1)"
   ]
  },
  {
   "cell_type": "markdown",
   "id": "ff80b4c4-91e1-4345-9370-8b7e39913e98",
   "metadata": {},
   "source": [
    "# Create environments"
   ]
  },
  {
   "cell_type": "code",
   "execution_count": 4,
   "id": "a554c47f",
   "metadata": {
    "tags": []
   },
   "outputs": [],
   "source": [
    "gridworld_dim = 7\n",
    "n_actions = 8\n",
    "\n",
    "def create_env():\n",
    "    r = np.zeros((7, 7)); r[6, 6] = 1.\n",
    "    t = [(6, 6)]\n",
    "    u = [(ui, uj) for ui in [2,3,4] for uj in [2,3,4]]\n",
    "    s = [(ui, uj) for ui in [0,1] for uj in [0,1]]\n",
    "    s += [(ui, uj) for ui in [2,3,4,5,6] for uj in [0,1]]\n",
    "    s += [(ui, uj) for ui in [0,1] for uj in [2,3,4,5,6]]\n",
    "    env = tools.environments.GridworldEnvironment(\\\n",
    "              start_states=s,\n",
    "              t=t,\n",
    "              r=r,\n",
    "              unsafe_states=u,\n",
    "              stay_action=False, # no action to \"stay in current cell\"\n",
    "    )\n",
    "    env = tools.environments.TimeLimit(env, 200)\n",
    "    env = tools.environments.FollowGymAPI(env)\n",
    "    return env\n",
    "\n",
    "env, test_env = create_env(), create_env()"
   ]
  },
  {
   "cell_type": "markdown",
   "id": "f27a706f-e65d-4889-ac6e-c820cfa9902a",
   "metadata": {},
   "source": [
    "# Ground truth constraint function"
   ]
  },
  {
   "cell_type": "code",
   "execution_count": 5,
   "id": "37a7bd8c",
   "metadata": {
    "tags": []
   },
   "outputs": [],
   "source": [
    "def true_constraint_function(sa):\n",
    "    s, a = sa\n",
    "    x, y = s[0], s[1]\n",
    "    u = [(ui, uj) for ui in [2,3,4] for uj in [2,3,4]]\n",
    "    if (x, y) in u:\n",
    "        return 1\n",
    "    else:\n",
    "        return 0"
   ]
  },
  {
   "cell_type": "markdown",
   "id": "5c4ab6e0-0e2d-44d7-945f-cb96882a5d79",
   "metadata": {},
   "source": [
    "Visualize the ground truth constraint function:"
   ]
  },
  {
   "cell_type": "code",
   "execution_count": 6,
   "id": "98110b70",
   "metadata": {
    "tags": []
   },
   "outputs": [
    {
     "data": {
      "image/png": "[encoded data removed]",
      "text/plain": [
       "<Figure size 300x300 with 2 Axes>"
      ]
     },
     "metadata": {},
     "output_type": "display_data"
    }
   ],
   "source": [
    "def gridworld_imshow(m, fig, ax):\n",
    "    m = np.array(m).squeeze()\n",
    "    assert(len(m.shape) == 2)\n",
    "    divider = make_axes_locatable(ax)\n",
    "    cax = divider.append_axes(\"right\", size=\"5%\", pad=0.05)\n",
    "    im = ax.imshow(m, cmap='gray')\n",
    "    im.set_clim(0, 1)\n",
    "    ax.set_xticks(np.arange(m.shape[0]))\n",
    "    ax.set_yticks(np.arange(m.shape[1]))\n",
    "    cbar = fig.colorbar(im, cax=cax)\n",
    "\n",
    "def visualize_constraint(constraint_fn, fig = None, ax = None):\n",
    "    global gridworld_dim, n_actions\n",
    "    grid_for_action = []\n",
    "    for a in np.arange(n_actions):\n",
    "        grid = np.zeros((gridworld_dim, gridworld_dim))\n",
    "        for x in np.arange(gridworld_dim):\n",
    "            for y in np.arange(gridworld_dim):\n",
    "                grid[x, y] = constraint_fn(([x, y], a))\n",
    "        grid_for_action += [grid]\n",
    "    average_grid = np.mean(grid_for_action, axis=0)\n",
    "    if fig == None and ax == None:\n",
    "        fig, ax = plt.subplots(1, 1, figsize=(3, 3))\n",
    "    gridworld_imshow(average_grid, fig, ax)\n",
    "\n",
    "visualize_constraint(true_constraint_function)"
   ]
  },
  {
   "cell_type": "markdown",
   "id": "b47e1e3e-5c7f-4c16-b4e6-47194c9a0b10",
   "metadata": {},
   "source": [
    "# Learnable constraint function\n",
    "\n",
    "Instantiate neural network and visualize it:"
   ]
  },
  {
   "cell_type": "code",
   "execution_count": 7,
   "id": "8e3235bf",
   "metadata": {
    "tags": []
   },
   "outputs": [
    {
     "data": {
      "image/png": "[encoded data removed]",
      "text/plain": [
       "<Figure size 300x300 with 2 Axes>"
      ]
     },
     "metadata": {},
     "output_type": "display_data"
    }
   ],
   "source": [
    "constraint_fn_input_dim = 2\n",
    "hidden_dim = 64\n",
    "constraint_nn = torch.nn.Sequential(\n",
    "    torch.nn.Linear(constraint_fn_input_dim, hidden_dim), torch.nn.ReLU(),\n",
    "    torch.nn.Linear(hidden_dim, hidden_dim), torch.nn.ReLU(),\n",
    "    torch.nn.Linear(hidden_dim, 1), torch.nn.Sigmoid(),\n",
    ").to(device)\n",
    "def current_constraint_function(sa):\n",
    "    global constraint_nn, device\n",
    "    s, a = sa\n",
    "    return constraint_nn(torch.tensor(s, device=device, dtype=torch.float)) # Change this depending on the constraint_nn input\n",
    "visualize_constraint(current_constraint_function)"
   ]
  },
  {
   "cell_type": "markdown",
   "id": "ab201070-bf98-4a6c-8484-a8a5cc17a11f",
   "metadata": {
    "tags": []
   },
   "source": [
    "# Generate expert trajectories\n",
    "\n",
    "Simplified code for PPO Penalty (discrete action space):"
   ]
  },
  {
   "cell_type": "code",
   "execution_count": 8,
   "id": "6ab8d613",
   "metadata": {
    "tags": []
   },
   "outputs": [],
   "source": [
    "obs_n = env.observation_space.shape[0]\n",
    "act_n = env.action_space.n\n",
    "def make_nn():\n",
    "    global obs_n, act_n, device\n",
    "    value_nn = torch.nn.Sequential(\n",
    "        torch.nn.Linear(obs_n, hidden_dim), torch.nn.ReLU(),\n",
    "        torch.nn.Linear(hidden_dim, hidden_dim), torch.nn.ReLU(),\n",
    "        torch.nn.Linear(hidden_dim, 1),\n",
    "    ).to(device)\n",
    "    policy_nn = torch.nn.Sequential(\n",
    "        torch.nn.Linear(obs_n, hidden_dim), torch.nn.ReLU(),\n",
    "        torch.nn.Linear(hidden_dim, hidden_dim), torch.nn.ReLU(),\n",
    "        torch.nn.Linear(hidden_dim, act_n),\n",
    "    ).to(device)\n",
    "    return value_nn, policy_nn"
   ]
  },
  {
   "cell_type": "code",
   "execution_count": 9,
   "id": "1617e231-7c3e-4a21-8cf6-550c0c4e96e4",
   "metadata": {
    "tags": []
   },
   "outputs": [
    {
     "name": "stdout",
     "output_type": "stream",
     "text": [
      "91 90 90 90\n"
     ]
    }
   ],
   "source": [
    "def play_episode(env, policy_nn, constraint_fn):\n",
    "    global device\n",
    "    S, A, R, C = [], [], [], []\n",
    "    S += [env.reset()]\n",
    "    done = False\n",
    "    while not done:\n",
    "        probs = torch.nn.Softmax(dim=-1)(policy_nn(torch.tensor(S[-1], device=device, dtype=torch.float))).view(-1)\n",
    "        action = np.random.choice(act_n, p = probs.cpu().detach().numpy())\n",
    "        A += [action]\n",
    "        next_state, reward, done, info = env.step(action)\n",
    "        C += [constraint_fn((S[-1], action))]\n",
    "        S += [next_state]\n",
    "        R += [reward]\n",
    "    return S, A, R, C\n",
    "value_nn, policy_nn = make_nn()\n",
    "test_S, test_A, test_R, test_C = play_episode(test_env, policy_nn, current_constraint_function)\n",
    "print(len(test_S), len(test_A), len(test_R), len(test_C))"
   ]
  },
  {
   "cell_type": "code",
   "execution_count": 10,
   "id": "262096f1-bd33-4106-93fd-544521c56c9a",
   "metadata": {
    "tags": []
   },
   "outputs": [
    {
     "data": {
      "text/plain": [
       "[10.0, 9.0, 7.0, 4.0]"
      ]
     },
     "execution_count": 10,
     "metadata": {},
     "output_type": "execute_result"
    }
   ],
   "source": [
    "discount_factor = 1.0\n",
    "def discount(x):\n",
    "    global discount_factor\n",
    "    n = len(x)\n",
    "    g = 0\n",
    "    d = []\n",
    "    for i in range(n):\n",
    "        g = x[n-1-i]+discount_factor*g\n",
    "        d = [g]+d\n",
    "    return d\n",
    "discount([1, 2, 3, 4])"
   ]
  },
  {
   "cell_type": "code",
   "execution_count": 11,
   "id": "4aa7a3c9-6443-482b-a763-da1d31ea96a3",
   "metadata": {
    "tags": []
   },
   "outputs": [],
   "source": [
    "class ReplayBuffer:\n",
    "    \n",
    "    def __init__(self, N):\n",
    "        global obs_n, device\n",
    "        self.N = N\n",
    "        self.S = torch.zeros((self.N, obs_n), dtype = torch.float, device = device)\n",
    "        self.A = torch.zeros((self.N), dtype = torch.long, device = device)\n",
    "        self.G = torch.zeros((self.N), dtype = torch.float, device = device)\n",
    "        self.log_probs = torch.zeros((self.N), dtype = torch.float, device = device)\n",
    "        self.i = 0\n",
    "        self.filled = 0\n",
    "\n",
    "    def add(self, S, A, G, log_probs):\n",
    "        M = S.shape[0]\n",
    "        self.filled = min(self.filled+M, self.N)\n",
    "        assert(M <= self.N)\n",
    "        for j in range(M):\n",
    "            self.S[self.i] = S[j, :]\n",
    "            self.A[self.i] = A[j]\n",
    "            self.G[self.i] = G[j]\n",
    "            self.log_probs[self.i] = log_probs[j]\n",
    "            self.i = (self.i + 1) % self.N\n",
    "    \n",
    "    def sample(self, n):\n",
    "        global device\n",
    "        minibatch = random.sample(range(self.filled), min(n, self.filled))\n",
    "        S, A, G, log_probs = [], [], [], []\n",
    "        for mbi in minibatch:\n",
    "            s, a, g, lp = self.S[mbi], self.A[mbi], self.G[mbi], self.log_probs[mbi]\n",
    "            S += [s]; A += [a]; G += [g]; log_probs += [lp]\n",
    "        return torch.stack(S), torch.stack(A), torch.stack(G), torch.stack(log_probs)"
   ]
  },
  {
   "cell_type": "code",
   "execution_count": 12,
   "id": "a56ee17c-93d3-4d09-9093-c6a6803768ac",
   "metadata": {
    "tags": []
   },
   "outputs": [],
   "source": [
    "episodes_per_epoch = 20\n",
    "ppo_subepochs = 25\n",
    "replay_buffer_size = 10000\n",
    "learning_rate = 5e-4\n",
    "learning_rate_feasibility = 2.5e-5\n",
    "minibatch_size = 64\n",
    "clip_param = 0.1\n",
    "entropy_coef = 0.01\n",
    "beta = 0.99\n",
    "def ppo_penalty(n_epochs, env, policy_nn, value_nn, constraint_fn, additional_fn_condition = None, additional_fn_epoch_end = None):\n",
    "    # Additional function to be run when additional function condition is met\n",
    "    # Additional function takes in current policy_nn and current iteration number\n",
    "    global episodes_per_epoch, replay_buffer_size, learning_rate_feasibility, beta\n",
    "    global ppo_subepochs, minibatch_size, learning_rate, device\n",
    "    buffer = ReplayBuffer(replay_buffer_size)\n",
    "    value_opt = torch.optim.Adam(value_nn.parameters(), lr = learning_rate)\n",
    "    policy_opt = torch.optim.Adam(policy_nn.parameters(), lr = learning_rate)\n",
    "    pbar = tqdm.notebook.tqdm(total = n_epochs)\n",
    "    for epoch in range(n_epochs):\n",
    "        S_e, A_e, G_e, Gc_e, Indices = [], [], [], [], []\n",
    "        G0_e, Gc0_e = [], []\n",
    "        for episode in range(episodes_per_epoch):\n",
    "            S, A, R, C = play_episode(env, policy_nn, constraint_fn)\n",
    "            start_index = len(A_e)\n",
    "            S_e += S[:-1] # ignore last state\n",
    "            A_e += A\n",
    "            ret = discount(R)\n",
    "            G_e += ret\n",
    "            G0_e += [float(ret[0])]\n",
    "            ret_c = discount(C)\n",
    "            Gc_e += ret_c\n",
    "            Gc0_e += [float(ret_c[0])]\n",
    "            end_index = len(A_e)\n",
    "            Indices += [(start_index, end_index)]\n",
    "        pbar.set_description(\"Epoch %d:\\tG_avg = %.2f\\tGc_avg = %.2f\" % (epoch, np.mean(G0_e), np.mean(Gc0_e)))\n",
    "        S_e = torch.tensor(S_e, dtype=torch.float, device=device)\n",
    "        A_e = torch.tensor(A_e, dtype=torch.long, device=device)\n",
    "        G_e = torch.tensor(G_e, dtype=torch.float, device=device)\n",
    "        Gc_e = torch.tensor(Gc_e, dtype=torch.float, device=device)\n",
    "        log_probs_e = torch.nn.LogSoftmax(dim = -1)(policy_nn(S_e)).gather(1, A_e.view(-1, 1)).view(-1)\n",
    "        buffer.add(S_e, A_e, G_e, log_probs_e.detach())\n",
    "        feasibility_opt = torch.optim.Adam(policy_nn.parameters(), lr = learning_rate_feasibility)\n",
    "        for (start_index, end_index) in Indices:\n",
    "            Gc = Gc_e[start_index:end_index]\n",
    "            log_probs = torch.nn.LogSoftmax(dim = -1)(policy_nn(S_e[start_index:end_index])).\\\n",
    "                gather(1, A_e[start_index:end_index].view(-1, 1)).view(-1)\n",
    "            feasibility_opt.zero_grad()\n",
    "            feasibility_loss = (Gc[0] >= beta) * ((Gc * log_probs).sum())\n",
    "            feasibility_loss.backward()\n",
    "            feasibility_opt.step()\n",
    "        for subepoch in range(ppo_subepochs):\n",
    "            S, A, G, old_log_probs = buffer.sample(minibatch_size)\n",
    "            log_probs = torch.nn.LogSoftmax(dim = -1)(policy_nn(S)).gather(1, A.view(-1, 1)).view(-1)\n",
    "            value_opt.zero_grad()\n",
    "            value_loss = (G - value_nn(S)).pow(2).mean()\n",
    "            value_loss.backward()\n",
    "            value_opt.step()\n",
    "            policy_opt.zero_grad()\n",
    "            advantages = G - value_nn(S)\n",
    "            ratio = torch.exp(log_probs - old_log_probs)\n",
    "            clipped_ratio = torch.clamp(ratio, 1 - clip_param, 1 + clip_param)\n",
    "            policy_loss = -torch.min(ratio * advantages, clipped_ratio * advantages).mean()\n",
    "            probs_all = torch.nn.Softmax(dim=-1)(policy_nn(S))\n",
    "            log_probs_all = torch.nn.LogSoftmax(dim=-1)(policy_nn(S))\n",
    "            entropy = -(probs_all * log_probs_all).sum(1).mean()\n",
    "            policy_loss -= entropy_coef * entropy\n",
    "            policy_loss.backward()\n",
    "            policy_opt.step()\n",
    "        # Run additional function at epoch end if condition is met\n",
    "        # Just in case we need it for later! (and we will)\n",
    "        if additional_fn_condition != None and additional_fn_epoch_end != None:\n",
    "            if additional_fn_condition(epoch, policy_nn) == True:\n",
    "                additional_fn_epoch_end(epoch, policy_nn)\n",
    "        pbar.update(1)"
   ]
  },
  {
   "cell_type": "markdown",
   "id": "df0af23a-ecdb-481a-9ea2-376fb14e317b",
   "metadata": {},
   "source": [
    "Collect 100 successful trajectories using a learned policy."
   ]
  },
  {
   "cell_type": "code",
   "execution_count": 13,
   "id": "d34b176a-9b01-4cd8-8c1d-1d3d8b384fef",
   "metadata": {},
   "outputs": [
    {
     "data": {
      "application/vnd.jupyter.widget-view+json": {
       "model_id": "ee6d48a5b43b4669b80e336ee22bbd5e",
       "version_major": 2,
       "version_minor": 0
      },
      "text/plain": [
       "  0%|          | 0/200 [00:00<?, ?it/s]"
      ]
     },
     "metadata": {},
     "output_type": "display_data"
    },
    {
     "data": {
      "application/vnd.jupyter.widget-view+json": {
       "model_id": "7e6253624d694feb853239bea2d44098",
       "version_major": 2,
       "version_minor": 0
      },
      "text/plain": [
       "  0%|          | 0/100 [00:00<?, ?it/s]"
      ]
     },
     "metadata": {},
     "output_type": "display_data"
    },
    {
     "name": "stdout",
     "output_type": "stream",
     "text": [
      "100\n"
     ]
    }
   ],
   "source": [
    "# if only_success = True, only successful trajectories are collected\n",
    "def collect_trajectories(n, env, policy_nn, constraint_fn, only_success = False):\n",
    "    data = []\n",
    "    for traj in tqdm.notebook.tqdm(range(n)):\n",
    "        S, A, R, C = play_episode(env, policy_nn, constraint_fn)\n",
    "        while (not (discount(C)[0] <= beta)) and only_success:\n",
    "            S, A, R, C = play_episode(test_env, policy_nn, constraint_fn)\n",
    "        data += [[S[:-1], A]]\n",
    "    return data\n",
    "\n",
    "if os.path.exists(\"expert-data/data-tutorial.pt\"):\n",
    "    expert_data = torch.load(\"expert-data/data-tutorial.pt\")\n",
    "else:\n",
    "    value_nn, policy_nn = make_nn()\n",
    "    ppo_penalty(200, env, policy_nn, value_nn, true_constraint_function)\n",
    "    expert_data = collect_trajectories(100, test_env, policy_nn, true_constraint_function, only_success = True)\n",
    "    torch.save(expert_data, \"expert-data/data-tutorial.pt\")\n",
    "print(len(expert_data))"
   ]
  },
  {
   "cell_type": "markdown",
   "id": "3c8c3a75-0c40-4a54-a777-9909c63ed96e",
   "metadata": {},
   "source": [
    "Visualize the expert trajectories:"
   ]
  },
  {
   "cell_type": "code",
   "execution_count": 14,
   "id": "beb86d4d-6c65-497f-8f0b-c844f86d6d76",
   "metadata": {},
   "outputs": [
    {
     "data": {
      "image/png": "[encoded data removed]",
      "text/plain": [
       "<Figure size 300x300 with 2 Axes>"
      ]
     },
     "metadata": {},
     "output_type": "display_data"
    }
   ],
   "source": [
    "def visualize_accrual(data, fig = None, ax = None):\n",
    "    accrual = np.array([np.zeros((gridworld_dim, gridworld_dim)) for _ in range(n_actions)])\n",
    "    for (S, A) in data:\n",
    "        for (s, a) in zip(S, A):\n",
    "            x, y = s\n",
    "            accrual[a][x][y] += 1\n",
    "    accrual = np.mean(accrual, axis = 0)\n",
    "    accrual /= np.max(accrual)\n",
    "    if fig == None and ax == None:\n",
    "        fig, ax = plt.subplots(1, 1, figsize=(3, 3))\n",
    "    gridworld_imshow(accrual, fig, ax)\n",
    "\n",
    "visualize_accrual(expert_data)"
   ]
  },
  {
   "cell_type": "markdown",
   "id": "9fa4ccdd-7b51-41d9-ad8b-64a8c70a0fbd",
   "metadata": {},
   "source": [
    "# Normalizing flow\n",
    "\n",
    "Train flow on expert data:"
   ]
  },
  {
   "cell_type": "code",
   "execution_count": 15,
   "id": "68f31b98-2e97-4c07-b6b2-3bd307318f7b",
   "metadata": {},
   "outputs": [],
   "source": [
    "def convert_to_flow_data(data):\n",
    "    global device\n",
    "    flow_data = []\n",
    "    for (S, A) in data:\n",
    "        for (s, a) in zip(S, A):\n",
    "            flow_data += [s] # Change this depending on your constraint_nn input\n",
    "    flow_data = torch.tensor(flow_data, dtype=torch.float, device=device)\n",
    "    return flow_data\n",
    "flow_data = convert_to_flow_data(expert_data)"
   ]
  },
  {
   "cell_type": "code",
   "execution_count": 16,
   "id": "067ab115-b54a-453a-9513-fb6191abd018",
   "metadata": {},
   "outputs": [
    {
     "name": "stdout",
     "output_type": "stream",
     "text": [
      "{'avg_nll': 2.049517667654789, 'std_nll': 0.22197915361916512}\n",
      "{'avg_nll': 1.7000525828563806, 'std_nll': 0.12020679177117323}\n",
      "{'avg_nll': 1.484344724452857, 'std_nll': 0.1383861403197361}\n",
      "{'avg_nll': 1.3057895609826753, 'std_nll': 0.14968801503836998}\n",
      "{'avg_nll': 1.0944811828208691, 'std_nll': 0.19293375657351408}\n",
      "{'avg_nll': 0.8805776491309657, 'std_nll': 0.20489773755115276}\n",
      "{'avg_nll': 1.0743811401453884, 'std_nll': 0.34854285638710764}\n",
      "{'avg_nll': 0.8863689923150972, 'std_nll': 0.6389349554070561}\n",
      "{'avg_nll': 0.975304719173547, 'std_nll': 0.20392877633049378}\n",
      "{'avg_nll': 0.7328362546183846, 'std_nll': 0.19816897066144218}\n",
      "{'avg_nll': 0.5587058557253896, 'std_nll': 0.34067585120068167}\n",
      "{'avg_nll': 0.4464802353106665, 'std_nll': 0.22412371651216823}\n",
      "{'avg_nll': 2.0798158465009746, 'std_nll': 2.92434626244707}\n",
      "{'avg_nll': 1.1357651696060642, 'std_nll': 0.18234937706965876}\n",
      "{'avg_nll': 0.943294467348041, 'std_nll': 0.17308800945367536}\n",
      "{'avg_nll': 0.7784192092490919, 'std_nll': 0.20084332964143312}\n",
      "{'avg_nll': 0.5931164850339745, 'std_nll': 0.2813512813794144}\n",
      "{'avg_nll': 0.37575951399225177, 'std_nll': 0.26623108103790966}\n",
      "{'avg_nll': 0.32723397693850775, 'std_nll': 0.3850178320209188}\n",
      "{'avg_nll': 0.31522142559741484, 'std_nll': 0.3873649807983822}\n"
     ]
    }
   ],
   "source": [
    "flow_config = tools.data.Configuration({\n",
    "    \"normalize_flow_inputs\": True,\n",
    "    \"minibatch_size\": minibatch_size,\n",
    "    \"learning_rate\": learning_rate,\n",
    "})\n",
    "flow_config[\"t\"].device = device\n",
    "flow = tools.functions.create_flow(flow_config, flow_data, \"realnvp\", constraint_fn_input_dim)\n",
    "for flowepoch in range(20):\n",
    "    metrics = flow.train()\n",
    "    print(metrics)"
   ]
  },
  {
   "cell_type": "markdown",
   "id": "879f6895-283a-47cb-a6ea-f9329700f597",
   "metadata": {},
   "source": [
    "Calculate expert data negative log likelihood using flow:"
   ]
  },
  {
   "cell_type": "code",
   "execution_count": 17,
   "id": "203d24f6-6924-4b3b-9509-a818c4ddd32f",
   "metadata": {},
   "outputs": [],
   "source": [
    "nll = -flow.log_probs(flow_data)\n",
    "expert_nll = (nll.mean(), nll.std())"
   ]
  },
  {
   "cell_type": "code",
   "execution_count": 18,
   "id": "6a85568f-22cc-4311-912c-ba3850ac9997",
   "metadata": {},
   "outputs": [
    {
     "data": {
      "text/plain": [
       "(tensor(0.0735, grad_fn=<MeanBackward0>),\n",
       " tensor(2.2252, grad_fn=<StdBackward0>))"
      ]
     },
     "execution_count": 18,
     "metadata": {},
     "output_type": "execute_result"
    }
   ],
   "source": [
    "expert_nll"
   ]
  },
  {
   "cell_type": "markdown",
   "id": "811b3dab-6b0f-42a6-89f5-e79f8b87ec6b",
   "metadata": {},
   "source": [
    "# Cost adjustment\n",
    "\n",
    "First let us run forward constrained RL with an initial constraint function and visualize the policy:"
   ]
  },
  {
   "cell_type": "code",
   "execution_count": 19,
   "id": "7cc1fead-4e28-4e44-8ce5-a4108fd25152",
   "metadata": {},
   "outputs": [
    {
     "data": {
      "application/vnd.jupyter.widget-view+json": {
       "model_id": "690b27a24d004747b6e76e9d78340162",
       "version_major": 2,
       "version_minor": 0
      },
      "text/plain": [
       "  0%|          | 0/200 [00:00<?, ?it/s]"
      ]
     },
     "metadata": {},
     "output_type": "display_data"
    },
    {
     "data": {
      "application/vnd.jupyter.widget-view+json": {
       "model_id": "9da047362b374f3a9a88fac83f3b39c2",
       "version_major": 2,
       "version_minor": 0
      },
      "text/plain": [
       "  0%|          | 0/100 [00:00<?, ?it/s]"
      ]
     },
     "metadata": {},
     "output_type": "display_data"
    },
    {
     "data": {
      "image/png": "[encoded data removed]",
      "text/plain": [
       "<Figure size 300x300 with 2 Axes>"
      ]
     },
     "metadata": {},
     "output_type": "display_data"
    }
   ],
   "source": [
    "value_nn, policy_nn = make_nn()\n",
    "ppo_penalty(200, env, policy_nn, value_nn, current_constraint_function)\n",
    "agent_data = collect_trajectories(100, test_env, policy_nn, current_constraint_function)\n",
    "visualize_accrual(agent_data)"
   ]
  },
  {
   "cell_type": "code",
   "execution_count": 20,
   "id": "94baaa8b-8088-4977-ba12-49827e812373",
   "metadata": {},
   "outputs": [],
   "source": [
    "policy_mixture = [copy.deepcopy(policy_nn.state_dict())]"
   ]
  },
  {
   "cell_type": "code",
   "execution_count": 21,
   "id": "23f23249-3cc2-4c66-8a46-8198f0cfd14c",
   "metadata": {
    "tags": []
   },
   "outputs": [],
   "source": [
    "def dissimilarity_wrt_expert(data, mean = True):\n",
    "    global flow, expert_nll, device\n",
    "    expert_nll_mean, expert_nll_std = expert_nll\n",
    "    sims = []\n",
    "    for (S, A) in data:\n",
    "        traj_data = S # Change this depending on your constraint_nn input\n",
    "        traj_data = torch.tensor(traj_data, dtype=torch.float, device=device)\n",
    "        traj_nll = -flow.log_probs(traj_data).detach()\n",
    "        sims += [(traj_nll > expert_nll_mean + expert_nll_std).float().mean()]\n",
    "    if mean:\n",
    "        return np.mean(sims)\n",
    "    return torch.tensor(sims, dtype=torch.float, device=device)\n",
    "weights_mixture = [dissimilarity_wrt_expert(agent_data)]"
   ]
  },
  {
   "cell_type": "code",
   "execution_count": 22,
   "id": "d2ff2e1a-8022-44fc-846e-553dd26ca7a7",
   "metadata": {},
   "outputs": [],
   "source": [
    "def collect_trajectories_mixture(n, env, policy_mixture, weights_mixture, constraint_fn):\n",
    "    data = []\n",
    "    value_nn, policy_nn = make_nn()\n",
    "    normalized_weights_mixture = np.copy(weights_mixture)/np.sum(weights_mixture)\n",
    "    m = len(weights_mixture)\n",
    "    for traj in tqdm.notebook.tqdm(range(n)):\n",
    "        chosen_policy_idx = np.random.choice(m, p = normalized_weights_mixture)\n",
    "        policy_nn.load_state_dict(policy_mixture[chosen_policy_idx])\n",
    "        S, A, R, C = play_episode(env, policy_nn, constraint_fn)\n",
    "        data += [[S[:-1], A]]\n",
    "    return data"
   ]
  },
  {
   "cell_type": "code",
   "execution_count": 23,
   "id": "475a1bce-bc22-4740-af87-bdf4a07c76d2",
   "metadata": {},
   "outputs": [],
   "source": [
    "def compute_current_constraint_value_trajectory(constraint_nn, data):\n",
    "    global device\n",
    "    Gc0 = []\n",
    "    for (S, A) in data:\n",
    "        input_to_constraint_nn = []\n",
    "        for (s, a) in zip(S, A):\n",
    "            input_to_constraint_nn += [s] # Change this depending on your constraint_nn input\n",
    "        input_to_constraint_nn = torch.tensor(input_to_constraint_nn, dtype=torch.float, device=device)\n",
    "        constraint_values = constraint_nn(input_to_constraint_nn).view(-1)\n",
    "        Gc0 += [discount(constraint_values)[0]]\n",
    "    return torch.stack(Gc0)"
   ]
  },
  {
   "cell_type": "code",
   "execution_count": 24,
   "id": "7573f29f-dbe9-49ce-8d54-3f36a10afe46",
   "metadata": {},
   "outputs": [],
   "source": [
    "alpha = 15\n",
    "def constraint_function_adjustment(n, constraint_nn, constraint_opt, expert_data, agent_data):\n",
    "    global beta, alpha\n",
    "    losses = []\n",
    "    for _ in tqdm.notebook.tqdm(range(n)):\n",
    "        constraint_opt.zero_grad()\n",
    "        per_traj_dissimilarity = dissimilarity_wrt_expert(agent_data, mean = False)\n",
    "        per_traj_dissimilarity = per_traj_dissimilarity / per_traj_dissimilarity.sum()\n",
    "        agent_data_constraint_returns = compute_current_constraint_value_trajectory(constraint_nn, agent_data)\n",
    "        expert_data_constraint_returns = compute_current_constraint_value_trajectory(constraint_nn, expert_data)\n",
    "        loss1 = -(agent_data_constraint_returns * per_traj_dissimilarity).sum()\n",
    "        loss2 =  ((expert_data_constraint_returns >= beta).float() * (expert_data_constraint_returns - beta)).mean()\n",
    "        loss = loss1 + alpha * loss2\n",
    "        loss.backward()\n",
    "        constraint_opt.step()\n",
    "        losses += [loss.item()]\n",
    "    return np.mean(losses)"
   ]
  },
  {
   "cell_type": "code",
   "execution_count": 25,
   "id": "4806e0b2-eaf5-40ec-959e-ac37fcad067b",
   "metadata": {},
   "outputs": [
    {
     "data": {
      "application/vnd.jupyter.widget-view+json": {
       "model_id": "c1f9cc7fab8f43b6b594bde248775157",
       "version_major": 2,
       "version_minor": 0
      },
      "text/plain": [
       "  0%|          | 0/100 [00:00<?, ?it/s]"
      ]
     },
     "metadata": {},
     "output_type": "display_data"
    },
    {
     "data": {
      "application/vnd.jupyter.widget-view+json": {
       "model_id": "3121853efe1a4cdc9d9d32673463f915",
       "version_major": 2,
       "version_minor": 0
      },
      "text/plain": [
       "  0%|          | 0/20 [00:00<?, ?it/s]"
      ]
     },
     "metadata": {},
     "output_type": "display_data"
    },
    {
     "data": {
      "text/plain": [
       "(tensor(0.), tensor(0.))"
      ]
     },
     "execution_count": 25,
     "metadata": {},
     "output_type": "execute_result"
    }
   ],
   "source": [
    "old_expert_satisfaction = (compute_current_constraint_value_trajectory(constraint_nn, expert_data) <= beta).float().mean()\n",
    "constraint_opt = torch.optim.Adam(constraint_nn.parameters(), lr = learning_rate)\n",
    "agent_data = collect_trajectories_mixture(100, test_env, policy_mixture, weights_mixture, current_constraint_function)\n",
    "per_traj_dissimilarity = dissimilarity_wrt_expert(agent_data, mean = False)\n",
    "agent_data_constraint_returns = compute_current_constraint_value_trajectory(constraint_nn, agent_data)\n",
    "constraint_function_adjustment(20, constraint_nn, constraint_opt, expert_data, agent_data)\n",
    "new_expert_satisfaction = (compute_current_constraint_value_trajectory(constraint_nn, expert_data) <= beta).float().mean()\n",
    "old_expert_satisfaction, new_expert_satisfaction"
   ]
  },
  {
   "cell_type": "code",
   "execution_count": 26,
   "id": "54844f68-90df-4401-a354-6335a1348af6",
   "metadata": {},
   "outputs": [
    {
     "data": {
      "image/png": "[encoded data removed]",
      "text/plain": [
       "<Figure size 300x300 with 2 Axes>"
      ]
     },
     "metadata": {},
     "output_type": "display_data"
    }
   ],
   "source": [
    "visualize_constraint(current_constraint_function)"
   ]
  },
  {
   "cell_type": "markdown",
   "id": "ee8bdba5-50d6-4df0-9959-b1c9c0f4326f",
   "metadata": {},
   "source": [
    "# ICL"
   ]
  },
  {
   "cell_type": "code",
   "execution_count": 27,
   "id": "77ad799b-b3e5-4df0-b9fb-8c90eec1bced",
   "metadata": {},
   "outputs": [],
   "source": [
    "def icl(n_iters, flow_iters, ppo_iters, policy_add_to_mix_every, ca_iters, expert_data, seed = 1):\n",
    "    seed_fn(seed)\n",
    "    global constraint_nn, constraint_fn_input_dim, hidden_dim\n",
    "    global env, learning_rate, policy_mixture, weights_mixture, flow, expert_nll, agent_data, device\n",
    "    constraint_nn = torch.nn.Sequential(\n",
    "        torch.nn.Linear(constraint_fn_input_dim, hidden_dim), torch.nn.ReLU(),\n",
    "        torch.nn.Linear(hidden_dim, hidden_dim), torch.nn.ReLU(),\n",
    "        torch.nn.Linear(hidden_dim, 1), torch.nn.Sigmoid(),\n",
    "    )\n",
    "    constraint_opt = torch.optim.Adam(constraint_nn.parameters(), lr = learning_rate)\n",
    "    print(\"Training flow ...\")\n",
    "    flow_data = convert_to_flow_data(expert_data)\n",
    "    flow_config = tools.data.Configuration({\n",
    "        \"normalize_flow_inputs\": True,\n",
    "        \"minibatch_size\": minibatch_size,\n",
    "        \"learning_rate\": learning_rate,\n",
    "    })\n",
    "    flow_config[\"t\"].device = device\n",
    "    flow = tools.functions.create_flow(flow_config, flow_data, \"realnvp\", constraint_fn_input_dim)\n",
    "    for flowepoch in range(flow_iters):\n",
    "        metrics = flow.train()\n",
    "        print(metrics)\n",
    "    nll = -flow.log_probs(flow_data)\n",
    "    expert_nll = (nll.mean(), nll.std())\n",
    "    n = len(expert_data)\n",
    "    policy_mixture, weights_mixture = [], []\n",
    "    print(\"Running ICL ...\")\n",
    "    expert_satisfaction = (compute_current_constraint_value_trajectory(constraint_nn, expert_data) <= beta).float().mean()\n",
    "    print(\"Expert satisfaction = %.2f\" % expert_satisfaction)\n",
    "    def condition(epoch, policy_nn):\n",
    "        if (epoch+1) % policy_add_to_mix_every == 0:\n",
    "            return True\n",
    "        return False\n",
    "    def command(epoch, policy_nn):\n",
    "        global policy_mixture, weights_mixture, agent_data\n",
    "        policy_mixture += [copy.deepcopy(policy_nn.state_dict())]\n",
    "        weights_mixture += [dissimilarity_wrt_expert(agent_data)]\n",
    "        print(\"Added policy with dissimilarity = %.2f\" % weights_mixture[-1])\n",
    "    for itr in range(n_iters):\n",
    "        print(\"ICL iteration %d ...\" % itr)\n",
    "        value_nn, policy_nn = make_nn()\n",
    "        ppo_penalty(ppo_iters, env, policy_nn, value_nn, current_constraint_function, condition, command)\n",
    "        agent_data = collect_trajectories(n, test_env, policy_nn, current_constraint_function)\n",
    "        mixture_data = collect_trajectories_mixture(n, test_env, policy_mixture, weights_mixture, current_constraint_function)\n",
    "        fig, ax = plt.subplots(1, 5, figsize=(15, 3))\n",
    "        visualize_constraint(true_constraint_function, fig, ax[0])\n",
    "        ax[0].set_title(\"True constraint\")\n",
    "        visualize_constraint(current_constraint_function, fig, ax[1])\n",
    "        ax[1].set_title(\"Learned constraint (itr = %d)\" % itr)\n",
    "        visualize_accrual(expert_data, fig, ax[2])\n",
    "        ax[2].set_title(\"Expert accrual\")\n",
    "        visualize_accrual(agent_data, fig, ax[3])\n",
    "        ax[3].set_title(\"Agent accrual\")\n",
    "        visualize_accrual(mixture_data, fig, ax[4])\n",
    "        ax[4].set_title(\"Mixture accrual\")\n",
    "        fig.tight_layout()\n",
    "        plt.show()\n",
    "        per_traj_dissimilarity = dissimilarity_wrt_expert(mixture_data, mean = False)\n",
    "        mixture_data_constraint_returns = compute_current_constraint_value_trajectory(constraint_nn, mixture_data)\n",
    "        constraint_function_adjustment(ca_iters, constraint_nn, constraint_opt, expert_data, mixture_data)\n",
    "        expert_satisfaction = (compute_current_constraint_value_trajectory(constraint_nn, expert_data) <= beta).float().mean()\n",
    "        print(\"Expert satisfaction = %.2f\" % expert_satisfaction)\n",
    "    value_nn, policy_nn = make_nn()\n",
    "    ppo_penalty(ppo_iters, env, policy_nn, value_nn, current_constraint_function)\n",
    "    agent_data = collect_trajectories(n, test_env, policy_nn, current_constraint_function)\n",
    "    fig, ax = plt.subplots(1, 4, figsize=(12, 3))\n",
    "    visualize_constraint(true_constraint_function, fig, ax[0])\n",
    "    ax[0].set_title(\"True constraint\")\n",
    "    visualize_constraint(current_constraint_function, fig, ax[1])\n",
    "    ax[1].set_title(\"Final constraint\")\n",
    "    visualize_accrual(expert_data, fig, ax[2])\n",
    "    ax[2].set_title(\"Expert accrual\")\n",
    "    visualize_accrual(agent_data, fig, ax[3])\n",
    "    ax[3].set_title(\"Final accrual\")\n",
    "    fig.tight_layout()\n",
    "    plt.show()"
   ]
  },
  {
   "cell_type": "code",
   "execution_count": 28,
   "id": "b3c9b1df-90c5-4450-afe4-5cfdea66cdff",
   "metadata": {},
   "outputs": [
    {
     "name": "stdout",
     "output_type": "stream",
     "text": [
      "Training flow ...\n",
      "{'avg_nll': 2.0011243097709888, 'std_nll': 0.17740606935409808}\n",
      "{'avg_nll': 1.5936767260233562, 'std_nll': 0.18421552996784893}\n",
      "{'avg_nll': 1.221761905785763, 'std_nll': 0.17817862193791617}\n",
      "{'avg_nll': 1.0275175228263393, 'std_nll': 0.20770776335034613}\n",
      "{'avg_nll': 0.8822614767334678, 'std_nll': 0.2154420981257178}\n",
      "{'avg_nll': 0.7860254717595649, 'std_nll': 0.1983058376234362}\n",
      "{'avg_nll': 1.1177063620451726, 'std_nll': 0.26701758549381843}\n",
      "{'avg_nll': 0.6733693634018754, 'std_nll': 0.15492942553552802}\n",
      "{'avg_nll': 1.262774666150411, 'std_nll': 0.21230492650678487}\n",
      "{'avg_nll': 0.8160453854185162, 'std_nll': 0.2376400235905675}\n",
      "{'avg_nll': 0.8118971360452247, 'std_nll': 0.36731913478029626}\n",
      "{'avg_nll': 0.7305094450712204, 'std_nll': 0.264993852240516}\n",
      "{'avg_nll': 0.823254309368856, 'std_nll': 0.4315208514421639}\n",
      "{'avg_nll': 0.9844037547256007, 'std_nll': 0.24813802040656635}\n",
      "{'avg_nll': 0.7220241039088278, 'std_nll': 0.5241695335034692}\n",
      "{'avg_nll': 0.7614139685633056, 'std_nll': 0.3315291993413629}\n",
      "{'avg_nll': 0.2510143591824806, 'std_nll': 0.24045955874050381}\n",
      "{'avg_nll': 2.075195182001952, 'std_nll': 0.8660346734352413}\n",
      "{'avg_nll': 1.761259255987225, 'std_nll': 0.17980657509011058}\n",
      "{'avg_nll': 1.4053422989267292, 'std_nll': 0.16944606347214697}\n",
      "Running ICL ...\n",
      "Expert satisfaction = 0.00\n",
      "ICL iteration 0 ...\n"
     ]
    },
    {
     "data": {
      "application/vnd.jupyter.widget-view+json": {
       "model_id": "5661b907154e42299309f5ec6baa0151",
       "version_major": 2,
       "version_minor": 0
      },
      "text/plain": [
       "  0%|          | 0/200 [00:00<?, ?it/s]"
      ]
     },
     "metadata": {},
     "output_type": "display_data"
    },
    {
     "name": "stdout",
     "output_type": "stream",
     "text": [
      "Added policy with dissimilarity = 0.33\n",
      "Added policy with dissimilarity = 0.33\n"
     ]
    },
    {
     "data": {
      "application/vnd.jupyter.widget-view+json": {
       "model_id": "26a3b70c568b43809b81afc335aa2cec",
       "version_major": 2,
       "version_minor": 0
      },
      "text/plain": [
       "  0%|          | 0/100 [00:00<?, ?it/s]"
      ]
     },
     "metadata": {},
     "output_type": "display_data"
    },
    {
     "data": {
      "application/vnd.jupyter.widget-view+json": {
       "model_id": "934d57e07daf4ce69c3684d2d67c018e",
       "version_major": 2,
       "version_minor": 0
      },
      "text/plain": [
       "  0%|          | 0/100 [00:00<?, ?it/s]"
      ]
     },
     "metadata": {},
     "output_type": "display_data"
    },
    {
     "data": {
      "image/png": "[encoded data removed]",
      "text/plain": [
       "<Figure size 1500x300 with 10 Axes>"
      ]
     },
     "metadata": {},
     "output_type": "display_data"
    },
    {
     "data": {
      "application/vnd.jupyter.widget-view+json": {
       "model_id": "4e09702d52ba40e9a792712d1401dd52",
       "version_major": 2,
       "version_minor": 0
      },
      "text/plain": [
       "  0%|          | 0/20 [00:00<?, ?it/s]"
      ]
     },
     "metadata": {},
     "output_type": "display_data"
    },
    {
     "name": "stdout",
     "output_type": "stream",
     "text": [
      "Expert satisfaction = 0.00\n",
      "ICL iteration 1 ...\n"
     ]
    },
    {
     "data": {
      "application/vnd.jupyter.widget-view+json": {
       "model_id": "0c8f837f28134be5b854ff825bbb185f",
       "version_major": 2,
       "version_minor": 0
      },
      "text/plain": [
       "  0%|          | 0/200 [00:00<?, ?it/s]"
      ]
     },
     "metadata": {},
     "output_type": "display_data"
    },
    {
     "name": "stdout",
     "output_type": "stream",
     "text": [
      "Added policy with dissimilarity = 0.41\n",
      "Added policy with dissimilarity = 0.41\n"
     ]
    },
    {
     "data": {
      "application/vnd.jupyter.widget-view+json": {
       "model_id": "403a7c8f9086403897ebf58ac8d2b8fa",
       "version_major": 2,
       "version_minor": 0
      },
      "text/plain": [
       "  0%|          | 0/100 [00:00<?, ?it/s]"
      ]
     },
     "metadata": {},
     "output_type": "display_data"
    },
    {
     "data": {
      "application/vnd.jupyter.widget-view+json": {
       "model_id": "4c4c9e1f48204b85a677fd24e36c5b19",
       "version_major": 2,
       "version_minor": 0
      },
      "text/plain": [
       "  0%|          | 0/100 [00:00<?, ?it/s]"
      ]
     },
     "metadata": {},
     "output_type": "display_data"
    },
    {
     "data": {
      "image/png": "[encoded data removed]",
      "text/plain": [
       "<Figure size 1500x300 with 10 Axes>"
      ]
     },
     "metadata": {},
     "output_type": "display_data"
    },
    {
     "data": {
      "application/vnd.jupyter.widget-view+json": {
       "model_id": "5cd3a8dee3274fa995a35c301933cfc2",
       "version_major": 2,
       "version_minor": 0
      },
      "text/plain": [
       "  0%|          | 0/20 [00:00<?, ?it/s]"
      ]
     },
     "metadata": {},
     "output_type": "display_data"
    },
    {
     "name": "stdout",
     "output_type": "stream",
     "text": [
      "Expert satisfaction = 0.41\n",
      "ICL iteration 2 ...\n"
     ]
    },
    {
     "data": {
      "application/vnd.jupyter.widget-view+json": {
       "model_id": "b228e029cb884b5aa4028bb61180ae05",
       "version_major": 2,
       "version_minor": 0
      },
      "text/plain": [
       "  0%|          | 0/200 [00:00<?, ?it/s]"
      ]
     },
     "metadata": {},
     "output_type": "display_data"
    },
    {
     "name": "stdout",
     "output_type": "stream",
     "text": [
      "Added policy with dissimilarity = 0.40\n",
      "Added policy with dissimilarity = 0.40\n"
     ]
    },
    {
     "data": {
      "application/vnd.jupyter.widget-view+json": {
       "model_id": "b70263c4d8a94dcaac85c0154dab496c",
       "version_major": 2,
       "version_minor": 0
      },
      "text/plain": [
       "  0%|          | 0/100 [00:00<?, ?it/s]"
      ]
     },
     "metadata": {},
     "output_type": "display_data"
    },
    {
     "data": {
      "application/vnd.jupyter.widget-view+json": {
       "model_id": "8587a6403e944560b1d505cf1afd6d53",
       "version_major": 2,
       "version_minor": 0
      },
      "text/plain": [
       "  0%|          | 0/100 [00:00<?, ?it/s]"
      ]
     },
     "metadata": {},
     "output_type": "display_data"
    },
    {
     "data": {
      "image/png": "[encoded data removed]",
      "text/plain": [
       "<Figure size 1500x300 with 10 Axes>"
      ]
     },
     "metadata": {},
     "output_type": "display_data"
    },
    {
     "data": {
      "application/vnd.jupyter.widget-view+json": {
       "model_id": "d7bae6ed425e4dbda829f8ef81126234",
       "version_major": 2,
       "version_minor": 0
      },
      "text/plain": [
       "  0%|          | 0/20 [00:00<?, ?it/s]"
      ]
     },
     "metadata": {},
     "output_type": "display_data"
    },
    {
     "name": "stdout",
     "output_type": "stream",
     "text": [
      "Expert satisfaction = 0.80\n",
      "ICL iteration 3 ...\n"
     ]
    },
    {
     "data": {
      "application/vnd.jupyter.widget-view+json": {
       "model_id": "74aa4048891f409ebbeee23d5d69458f",
       "version_major": 2,
       "version_minor": 0
      },
      "text/plain": [
       "  0%|          | 0/200 [00:00<?, ?it/s]"
      ]
     },
     "metadata": {},
     "output_type": "display_data"
    },
    {
     "name": "stdout",
     "output_type": "stream",
     "text": [
      "Added policy with dissimilarity = 0.36\n",
      "Added policy with dissimilarity = 0.36\n"
     ]
    },
    {
     "data": {
      "application/vnd.jupyter.widget-view+json": {
       "model_id": "7c71fdf7a8d843789ee33bf390c4c055",
       "version_major": 2,
       "version_minor": 0
      },
      "text/plain": [
       "  0%|          | 0/100 [00:00<?, ?it/s]"
      ]
     },
     "metadata": {},
     "output_type": "display_data"
    },
    {
     "data": {
      "application/vnd.jupyter.widget-view+json": {
       "model_id": "075aa682bb974cca824e6670364f4450",
       "version_major": 2,
       "version_minor": 0
      },
      "text/plain": [
       "  0%|          | 0/100 [00:00<?, ?it/s]"
      ]
     },
     "metadata": {},
     "output_type": "display_data"
    },
    {
     "data": {
      "image/png": "[encoded data removed]",
      "text/plain": [
       "<Figure size 1500x300 with 10 Axes>"
      ]
     },
     "metadata": {},
     "output_type": "display_data"
    },
    {
     "data": {
      "application/vnd.jupyter.widget-view+json": {
       "model_id": "86f729822aa94432b251d762f5624678",
       "version_major": 2,
       "version_minor": 0
      },
      "text/plain": [
       "  0%|          | 0/20 [00:00<?, ?it/s]"
      ]
     },
     "metadata": {},
     "output_type": "display_data"
    },
    {
     "name": "stdout",
     "output_type": "stream",
     "text": [
      "Expert satisfaction = 0.85\n",
      "ICL iteration 4 ...\n"
     ]
    },
    {
     "data": {
      "application/vnd.jupyter.widget-view+json": {
       "model_id": "e0f45edae45b4d4183f9e0ff6f14850d",
       "version_major": 2,
       "version_minor": 0
      },
      "text/plain": [
       "  0%|          | 0/200 [00:00<?, ?it/s]"
      ]
     },
     "metadata": {},
     "output_type": "display_data"
    },
    {
     "ename": "KeyboardInterrupt",
     "evalue": "",
     "output_type": "error",
     "traceback": [
      "\u001b[0;31m---------------------------------------------------------------------------\u001b[0m",
      "\u001b[0;31mKeyboardInterrupt\u001b[0m                         Traceback (most recent call last)",
      "\u001b[0;32m/tmp/ipykernel_53003/4033125716.py\u001b[0m in \u001b[0;36m<cell line: 1>\u001b[0;34m()\u001b[0m\n\u001b[0;32m----> 1\u001b[0;31m \u001b[0micl\u001b[0m\u001b[0;34m(\u001b[0m\u001b[0mn_iters\u001b[0m \u001b[0;34m=\u001b[0m \u001b[0;36m10\u001b[0m\u001b[0;34m,\u001b[0m \u001b[0mflow_iters\u001b[0m \u001b[0;34m=\u001b[0m \u001b[0;36m20\u001b[0m\u001b[0;34m,\u001b[0m \u001b[0mppo_iters\u001b[0m \u001b[0;34m=\u001b[0m \u001b[0;36m200\u001b[0m\u001b[0;34m,\u001b[0m \u001b[0mpolicy_add_to_mix_every\u001b[0m \u001b[0;34m=\u001b[0m \u001b[0;36m100\u001b[0m\u001b[0;34m,\u001b[0m \u001b[0mca_iters\u001b[0m \u001b[0;34m=\u001b[0m \u001b[0;36m20\u001b[0m\u001b[0;34m,\u001b[0m \u001b[0mexpert_data\u001b[0m \u001b[0;34m=\u001b[0m \u001b[0mexpert_data\u001b[0m\u001b[0;34m)\u001b[0m\u001b[0;34m\u001b[0m\u001b[0;34m\u001b[0m\u001b[0m\n\u001b[0m",
      "\u001b[0;32m/tmp/ipykernel_53003/3670384946.py\u001b[0m in \u001b[0;36micl\u001b[0;34m(n_iters, flow_iters, ppo_iters, policy_add_to_mix_every, ca_iters, expert_data, seed)\u001b[0m\n\u001b[1;32m     40\u001b[0m         \u001b[0mprint\u001b[0m\u001b[0;34m(\u001b[0m\u001b[0;34m\"ICL iteration %d ...\"\u001b[0m \u001b[0;34m%\u001b[0m \u001b[0mitr\u001b[0m\u001b[0;34m)\u001b[0m\u001b[0;34m\u001b[0m\u001b[0;34m\u001b[0m\u001b[0m\n\u001b[1;32m     41\u001b[0m         \u001b[0mvalue_nn\u001b[0m\u001b[0;34m,\u001b[0m \u001b[0mpolicy_nn\u001b[0m \u001b[0;34m=\u001b[0m \u001b[0mmake_nn\u001b[0m\u001b[0;34m(\u001b[0m\u001b[0;34m)\u001b[0m\u001b[0;34m\u001b[0m\u001b[0;34m\u001b[0m\u001b[0m\n\u001b[0;32m---> 42\u001b[0;31m         \u001b[0mppo_penalty\u001b[0m\u001b[0;34m(\u001b[0m\u001b[0mppo_iters\u001b[0m\u001b[0;34m,\u001b[0m \u001b[0menv\u001b[0m\u001b[0;34m,\u001b[0m \u001b[0mpolicy_nn\u001b[0m\u001b[0;34m,\u001b[0m \u001b[0mvalue_nn\u001b[0m\u001b[0;34m,\u001b[0m \u001b[0mcurrent_constraint_function\u001b[0m\u001b[0;34m,\u001b[0m \u001b[0mcondition\u001b[0m\u001b[0;34m,\u001b[0m \u001b[0mcommand\u001b[0m\u001b[0;34m)\u001b[0m\u001b[0;34m\u001b[0m\u001b[0;34m\u001b[0m\u001b[0m\n\u001b[0m\u001b[1;32m     43\u001b[0m         \u001b[0magent_data\u001b[0m \u001b[0;34m=\u001b[0m \u001b[0mcollect_trajectories\u001b[0m\u001b[0;34m(\u001b[0m\u001b[0mn\u001b[0m\u001b[0;34m,\u001b[0m \u001b[0mtest_env\u001b[0m\u001b[0;34m,\u001b[0m \u001b[0mpolicy_nn\u001b[0m\u001b[0;34m,\u001b[0m \u001b[0mcurrent_constraint_function\u001b[0m\u001b[0;34m)\u001b[0m\u001b[0;34m\u001b[0m\u001b[0;34m\u001b[0m\u001b[0m\n\u001b[1;32m     44\u001b[0m         \u001b[0mmixture_data\u001b[0m \u001b[0;34m=\u001b[0m \u001b[0mcollect_trajectories_mixture\u001b[0m\u001b[0;34m(\u001b[0m\u001b[0mn\u001b[0m\u001b[0;34m,\u001b[0m \u001b[0mtest_env\u001b[0m\u001b[0;34m,\u001b[0m \u001b[0mpolicy_mixture\u001b[0m\u001b[0;34m,\u001b[0m \u001b[0mweights_mixture\u001b[0m\u001b[0;34m,\u001b[0m \u001b[0mcurrent_constraint_function\u001b[0m\u001b[0;34m)\u001b[0m\u001b[0;34m\u001b[0m\u001b[0;34m\u001b[0m\u001b[0m\n",
      "\u001b[0;32m/tmp/ipykernel_53003/359611935.py\u001b[0m in \u001b[0;36mppo_penalty\u001b[0;34m(n_epochs, env, policy_nn, value_nn, constraint_fn, additional_fn_condition, additional_fn_epoch_end)\u001b[0m\n\u001b[1;32m     21\u001b[0m         \u001b[0mG0_e\u001b[0m\u001b[0;34m,\u001b[0m \u001b[0mGc0_e\u001b[0m \u001b[0;34m=\u001b[0m \u001b[0;34m[\u001b[0m\u001b[0;34m]\u001b[0m\u001b[0;34m,\u001b[0m \u001b[0;34m[\u001b[0m\u001b[0;34m]\u001b[0m\u001b[0;34m\u001b[0m\u001b[0;34m\u001b[0m\u001b[0m\n\u001b[1;32m     22\u001b[0m         \u001b[0;32mfor\u001b[0m \u001b[0mepisode\u001b[0m \u001b[0;32min\u001b[0m \u001b[0mrange\u001b[0m\u001b[0;34m(\u001b[0m\u001b[0mepisodes_per_epoch\u001b[0m\u001b[0;34m)\u001b[0m\u001b[0;34m:\u001b[0m\u001b[0;34m\u001b[0m\u001b[0;34m\u001b[0m\u001b[0m\n\u001b[0;32m---> 23\u001b[0;31m             \u001b[0mS\u001b[0m\u001b[0;34m,\u001b[0m \u001b[0mA\u001b[0m\u001b[0;34m,\u001b[0m \u001b[0mR\u001b[0m\u001b[0;34m,\u001b[0m \u001b[0mC\u001b[0m \u001b[0;34m=\u001b[0m \u001b[0mplay_episode\u001b[0m\u001b[0;34m(\u001b[0m\u001b[0menv\u001b[0m\u001b[0;34m,\u001b[0m \u001b[0mpolicy_nn\u001b[0m\u001b[0;34m,\u001b[0m \u001b[0mconstraint_fn\u001b[0m\u001b[0;34m)\u001b[0m\u001b[0;34m\u001b[0m\u001b[0;34m\u001b[0m\u001b[0m\n\u001b[0m\u001b[1;32m     24\u001b[0m             \u001b[0mstart_index\u001b[0m \u001b[0;34m=\u001b[0m \u001b[0mlen\u001b[0m\u001b[0;34m(\u001b[0m\u001b[0mA_e\u001b[0m\u001b[0;34m)\u001b[0m\u001b[0;34m\u001b[0m\u001b[0;34m\u001b[0m\u001b[0m\n\u001b[1;32m     25\u001b[0m             \u001b[0mS_e\u001b[0m \u001b[0;34m+=\u001b[0m \u001b[0mS\u001b[0m\u001b[0;34m[\u001b[0m\u001b[0;34m:\u001b[0m\u001b[0;34m-\u001b[0m\u001b[0;36m1\u001b[0m\u001b[0;34m]\u001b[0m \u001b[0;31m# ignore last state\u001b[0m\u001b[0;34m\u001b[0m\u001b[0;34m\u001b[0m\u001b[0m\n",
      "\u001b[0;32m/tmp/ipykernel_53003/136937500.py\u001b[0m in \u001b[0;36mplay_episode\u001b[0;34m(env, policy_nn, constraint_fn)\u001b[0m\n\u001b[1;32m      5\u001b[0m     \u001b[0mdone\u001b[0m \u001b[0;34m=\u001b[0m \u001b[0;32mFalse\u001b[0m\u001b[0;34m\u001b[0m\u001b[0;34m\u001b[0m\u001b[0m\n\u001b[1;32m      6\u001b[0m     \u001b[0;32mwhile\u001b[0m \u001b[0;32mnot\u001b[0m \u001b[0mdone\u001b[0m\u001b[0;34m:\u001b[0m\u001b[0;34m\u001b[0m\u001b[0;34m\u001b[0m\u001b[0m\n\u001b[0;32m----> 7\u001b[0;31m         \u001b[0mprobs\u001b[0m \u001b[0;34m=\u001b[0m \u001b[0mtorch\u001b[0m\u001b[0;34m.\u001b[0m\u001b[0mnn\u001b[0m\u001b[0;34m.\u001b[0m\u001b[0mSoftmax\u001b[0m\u001b[0;34m(\u001b[0m\u001b[0mdim\u001b[0m\u001b[0;34m=\u001b[0m\u001b[0;34m-\u001b[0m\u001b[0;36m1\u001b[0m\u001b[0;34m)\u001b[0m\u001b[0;34m(\u001b[0m\u001b[0mpolicy_nn\u001b[0m\u001b[0;34m(\u001b[0m\u001b[0mtorch\u001b[0m\u001b[0;34m.\u001b[0m\u001b[0mtensor\u001b[0m\u001b[0;34m(\u001b[0m\u001b[0mS\u001b[0m\u001b[0;34m[\u001b[0m\u001b[0;34m-\u001b[0m\u001b[0;36m1\u001b[0m\u001b[0;34m]\u001b[0m\u001b[0;34m,\u001b[0m \u001b[0mdevice\u001b[0m\u001b[0;34m=\u001b[0m\u001b[0mdevice\u001b[0m\u001b[0;34m,\u001b[0m \u001b[0mdtype\u001b[0m\u001b[0;34m=\u001b[0m\u001b[0mtorch\u001b[0m\u001b[0;34m.\u001b[0m\u001b[0mfloat\u001b[0m\u001b[0;34m)\u001b[0m\u001b[0;34m)\u001b[0m\u001b[0;34m)\u001b[0m\u001b[0;34m.\u001b[0m\u001b[0mview\u001b[0m\u001b[0;34m(\u001b[0m\u001b[0;34m-\u001b[0m\u001b[0;36m1\u001b[0m\u001b[0;34m)\u001b[0m\u001b[0;34m\u001b[0m\u001b[0;34m\u001b[0m\u001b[0m\n\u001b[0m\u001b[1;32m      8\u001b[0m         \u001b[0maction\u001b[0m \u001b[0;34m=\u001b[0m \u001b[0mnp\u001b[0m\u001b[0;34m.\u001b[0m\u001b[0mrandom\u001b[0m\u001b[0;34m.\u001b[0m\u001b[0mchoice\u001b[0m\u001b[0;34m(\u001b[0m\u001b[0mact_n\u001b[0m\u001b[0;34m,\u001b[0m \u001b[0mp\u001b[0m \u001b[0;34m=\u001b[0m \u001b[0mprobs\u001b[0m\u001b[0;34m.\u001b[0m\u001b[0mcpu\u001b[0m\u001b[0;34m(\u001b[0m\u001b[0;34m)\u001b[0m\u001b[0;34m.\u001b[0m\u001b[0mdetach\u001b[0m\u001b[0;34m(\u001b[0m\u001b[0;34m)\u001b[0m\u001b[0;34m.\u001b[0m\u001b[0mnumpy\u001b[0m\u001b[0;34m(\u001b[0m\u001b[0;34m)\u001b[0m\u001b[0;34m)\u001b[0m\u001b[0;34m\u001b[0m\u001b[0;34m\u001b[0m\u001b[0m\n\u001b[1;32m      9\u001b[0m         \u001b[0mA\u001b[0m \u001b[0;34m+=\u001b[0m \u001b[0;34m[\u001b[0m\u001b[0maction\u001b[0m\u001b[0;34m]\u001b[0m\u001b[0;34m\u001b[0m\u001b[0;34m\u001b[0m\u001b[0m\n",
      "\u001b[0;32m~/.miniconda3/envs/main/lib/python3.9/site-packages/torch/nn/modules/module.py\u001b[0m in \u001b[0;36m_call_impl\u001b[0;34m(self, *input, **kwargs)\u001b[0m\n\u001b[1;32m   1108\u001b[0m         if not (self._backward_hooks or self._forward_hooks or self._forward_pre_hooks or _global_backward_hooks\n\u001b[1;32m   1109\u001b[0m                 or _global_forward_hooks or _global_forward_pre_hooks):\n\u001b[0;32m-> 1110\u001b[0;31m             \u001b[0;32mreturn\u001b[0m \u001b[0mforward_call\u001b[0m\u001b[0;34m(\u001b[0m\u001b[0;34m*\u001b[0m\u001b[0minput\u001b[0m\u001b[0;34m,\u001b[0m \u001b[0;34m**\u001b[0m\u001b[0mkwargs\u001b[0m\u001b[0;34m)\u001b[0m\u001b[0;34m\u001b[0m\u001b[0;34m\u001b[0m\u001b[0m\n\u001b[0m\u001b[1;32m   1111\u001b[0m         \u001b[0;31m# Do not call functions when jit is used\u001b[0m\u001b[0;34m\u001b[0m\u001b[0;34m\u001b[0m\u001b[0m\n\u001b[1;32m   1112\u001b[0m         \u001b[0mfull_backward_hooks\u001b[0m\u001b[0;34m,\u001b[0m \u001b[0mnon_full_backward_hooks\u001b[0m \u001b[0;34m=\u001b[0m \u001b[0;34m[\u001b[0m\u001b[0;34m]\u001b[0m\u001b[0;34m,\u001b[0m \u001b[0;34m[\u001b[0m\u001b[0;34m]\u001b[0m\u001b[0;34m\u001b[0m\u001b[0;34m\u001b[0m\u001b[0m\n",
      "\u001b[0;32m~/.miniconda3/envs/main/lib/python3.9/site-packages/torch/nn/modules/container.py\u001b[0m in \u001b[0;36mforward\u001b[0;34m(self, input)\u001b[0m\n\u001b[1;32m    139\u001b[0m     \u001b[0;32mdef\u001b[0m \u001b[0mforward\u001b[0m\u001b[0;34m(\u001b[0m\u001b[0mself\u001b[0m\u001b[0;34m,\u001b[0m \u001b[0minput\u001b[0m\u001b[0;34m)\u001b[0m\u001b[0;34m:\u001b[0m\u001b[0;34m\u001b[0m\u001b[0;34m\u001b[0m\u001b[0m\n\u001b[1;32m    140\u001b[0m         \u001b[0;32mfor\u001b[0m \u001b[0mmodule\u001b[0m \u001b[0;32min\u001b[0m \u001b[0mself\u001b[0m\u001b[0;34m:\u001b[0m\u001b[0;34m\u001b[0m\u001b[0;34m\u001b[0m\u001b[0m\n\u001b[0;32m--> 141\u001b[0;31m             \u001b[0minput\u001b[0m \u001b[0;34m=\u001b[0m \u001b[0mmodule\u001b[0m\u001b[0;34m(\u001b[0m\u001b[0minput\u001b[0m\u001b[0;34m)\u001b[0m\u001b[0;34m\u001b[0m\u001b[0;34m\u001b[0m\u001b[0m\n\u001b[0m\u001b[1;32m    142\u001b[0m         \u001b[0;32mreturn\u001b[0m \u001b[0minput\u001b[0m\u001b[0;34m\u001b[0m\u001b[0;34m\u001b[0m\u001b[0m\n\u001b[1;32m    143\u001b[0m \u001b[0;34m\u001b[0m\u001b[0m\n",
      "\u001b[0;32m~/.miniconda3/envs/main/lib/python3.9/site-packages/torch/nn/modules/module.py\u001b[0m in \u001b[0;36m_call_impl\u001b[0;34m(self, *input, **kwargs)\u001b[0m\n\u001b[1;32m   1108\u001b[0m         if not (self._backward_hooks or self._forward_hooks or self._forward_pre_hooks or _global_backward_hooks\n\u001b[1;32m   1109\u001b[0m                 or _global_forward_hooks or _global_forward_pre_hooks):\n\u001b[0;32m-> 1110\u001b[0;31m             \u001b[0;32mreturn\u001b[0m \u001b[0mforward_call\u001b[0m\u001b[0;34m(\u001b[0m\u001b[0;34m*\u001b[0m\u001b[0minput\u001b[0m\u001b[0;34m,\u001b[0m \u001b[0;34m**\u001b[0m\u001b[0mkwargs\u001b[0m\u001b[0;34m)\u001b[0m\u001b[0;34m\u001b[0m\u001b[0;34m\u001b[0m\u001b[0m\n\u001b[0m\u001b[1;32m   1111\u001b[0m         \u001b[0;31m# Do not call functions when jit is used\u001b[0m\u001b[0;34m\u001b[0m\u001b[0;34m\u001b[0m\u001b[0m\n\u001b[1;32m   1112\u001b[0m         \u001b[0mfull_backward_hooks\u001b[0m\u001b[0;34m,\u001b[0m \u001b[0mnon_full_backward_hooks\u001b[0m \u001b[0;34m=\u001b[0m \u001b[0;34m[\u001b[0m\u001b[0;34m]\u001b[0m\u001b[0;34m,\u001b[0m \u001b[0;34m[\u001b[0m\u001b[0;34m]\u001b[0m\u001b[0;34m\u001b[0m\u001b[0;34m\u001b[0m\u001b[0m\n",
      "\u001b[0;32m~/.miniconda3/envs/main/lib/python3.9/site-packages/torch/nn/modules/linear.py\u001b[0m in \u001b[0;36mforward\u001b[0;34m(self, input)\u001b[0m\n\u001b[1;32m    101\u001b[0m \u001b[0;34m\u001b[0m\u001b[0m\n\u001b[1;32m    102\u001b[0m     \u001b[0;32mdef\u001b[0m \u001b[0mforward\u001b[0m\u001b[0;34m(\u001b[0m\u001b[0mself\u001b[0m\u001b[0;34m,\u001b[0m \u001b[0minput\u001b[0m\u001b[0;34m:\u001b[0m \u001b[0mTensor\u001b[0m\u001b[0;34m)\u001b[0m \u001b[0;34m->\u001b[0m \u001b[0mTensor\u001b[0m\u001b[0;34m:\u001b[0m\u001b[0;34m\u001b[0m\u001b[0;34m\u001b[0m\u001b[0m\n\u001b[0;32m--> 103\u001b[0;31m         \u001b[0;32mreturn\u001b[0m \u001b[0mF\u001b[0m\u001b[0;34m.\u001b[0m\u001b[0mlinear\u001b[0m\u001b[0;34m(\u001b[0m\u001b[0minput\u001b[0m\u001b[0;34m,\u001b[0m \u001b[0mself\u001b[0m\u001b[0;34m.\u001b[0m\u001b[0mweight\u001b[0m\u001b[0;34m,\u001b[0m \u001b[0mself\u001b[0m\u001b[0;34m.\u001b[0m\u001b[0mbias\u001b[0m\u001b[0;34m)\u001b[0m\u001b[0;34m\u001b[0m\u001b[0;34m\u001b[0m\u001b[0m\n\u001b[0m\u001b[1;32m    104\u001b[0m \u001b[0;34m\u001b[0m\u001b[0m\n\u001b[1;32m    105\u001b[0m     \u001b[0;32mdef\u001b[0m \u001b[0mextra_repr\u001b[0m\u001b[0;34m(\u001b[0m\u001b[0mself\u001b[0m\u001b[0;34m)\u001b[0m \u001b[0;34m->\u001b[0m \u001b[0mstr\u001b[0m\u001b[0;34m:\u001b[0m\u001b[0;34m\u001b[0m\u001b[0;34m\u001b[0m\u001b[0m\n",
      "\u001b[0;31mKeyboardInterrupt\u001b[0m: "
     ]
    }
   ],
   "source": [
    "icl(n_iters = 10, flow_iters = 20, ppo_iters = 200, policy_add_to_mix_every = 100, ca_iters = 20, expert_data = expert_data)"
   ]
  },
  {
   "cell_type": "code",
   "execution_count": null,
   "id": "9890f71c-906a-4285-ac64-e63083f7b2fd",
   "metadata": {},
   "outputs": [],
   "source": []
  }
 ],
 "metadata": {
  "kernelspec": {
   "display_name": "Python (main)",
   "language": "python",
   "name": "myenv"
  },
  "language_info": {
   "codemirror_mode": {
    "name": "ipython",
    "version": 3
   },
   "file_extension": ".py",
   "mimetype": "text/x-python",
   "name": "python",
   "nbconvert_exporter": "python",
   "pygments_lexer": "ipython3",
   "version": "3.9.13"
  }
 },
 "nbformat": 4,
 "nbformat_minor": 5
}
